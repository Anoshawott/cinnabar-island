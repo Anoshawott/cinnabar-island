{
  "nbformat": 4,
  "nbformat_minor": 0,
  "metadata": {
    "colab": {
      "name": "Data Cleaning - Investigating Measures of Health and Economic Freedom as Determinants in Socioeconomic Performance of the G20 Nations",
      "provenance": [],
      "collapsed_sections": [],
      "toc_visible": true,
      "include_colab_link": true
    },
    "kernelspec": {
      "name": "python3",
      "display_name": "Python 3"
    },
    "accelerator": "GPU"
  },
  "cells": [
    {
      "cell_type": "markdown",
      "metadata": {
        "id": "view-in-github",
        "colab_type": "text"
      },
      "source": [
        "<a href=\"https://colab.research.google.com/github/Anoshawott/cinnabar-island/blob/master/Data_Cleaning.ipynb\" target=\"_parent\"><img src=\"https://colab.research.google.com/assets/colab-badge.svg\" alt=\"Open In Colab\"/></a>"
      ]
    },
    {
      "cell_type": "markdown",
      "metadata": {
        "id": "vBLF2Egtj0T1",
        "colab_type": "text"
      },
      "source": [
        "# Data Cleaning - Investigating Measures of Health and Economic Freedom as Determinants in Socioeconomic Performance of the G20 Nations\n",
        "## By Anosh.S\n",
        "## ***Initial Data Transformation & Cleaning***\n",
        "Preparing the data for optimal analysis requires the initiation of appropriate data cleaning tools. A number of\n",
        "diagnostics were used to understand the data. It is important to note that all data cleaning activities and\n",
        "numerical summaries were completed within the Google Colab python notebook environment so certain\n",
        "functions may refer specifically to its use exclusive to the environment only.\n",
        "Loading the datasets was achieved through direct sourcing of them from kaggle using their api. This meant\n",
        "in order to access the data an api token was required and hence the use of the files.upload() function\n",
        "under the google.colab package."
      ]
    },
    {
      "cell_type": "code",
      "metadata": {
        "id": "8Nweadh4kEwJ",
        "colab_type": "code",
        "outputId": "75642c7e-09ea-446c-be2c-30ca2a157048",
        "colab": {
          "resources": {
            "http://localhost:8080/nbextensions/google.colab/files.js": {
              "data": "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",
              "ok": true,
              "headers": [
                [
                  "content-type",
                  "application/javascript"
                ]
              ],
              "status": 200,
              "status_text": ""
            }
          },
          "base_uri": "https://localhost:8080/",
          "height": 227
        }
      },
      "source": [
        "''' PLEASE READ AND DO NOT TOUCH! - This loads all the datasets directly from \n",
        "Kaggle without having to download anything. ALSO, when it asks to upload a file \n",
        "this is asking for authentication of your Kaggle API. Just look up how to get \n",
        "that it's really just requires you to check in your account profile that you have\n",
        "made on Kaggle.\n",
        "'''\n",
        "from google.colab import files\n",
        "files.upload()\n",
        "!pip install -q kaggle\n",
        "!mkdir -p ~/.kaggle\n",
        "!cp kaggle.json ~/.kaggle/\n",
        "!chmod 600 ~/.kaggle/kaggle.json\n",
        "# Life Span and other health indicators\n",
        "!kaggle datasets download -d kumarajarshi/life-expectancy-who\n",
        "# Socioeconomic data\n",
        "!kaggle datasets download -d sdorius/globses\n",
        "# Measures relating to economic freedom - measures the degree to which the policies and institutions of countries are supportive of economic freedom\n",
        "!kaggle datasets download -d gsutters/economic-freedom"
      ],
      "execution_count": 0,
      "outputs": [
        {
          "output_type": "display_data",
          "data": {
            "text/html": [
              "\n",
              "     <input type=\"file\" id=\"files-bfe7e3af-02cb-4eb9-8657-cef829126853\" name=\"files[]\" multiple disabled />\n",
              "     <output id=\"result-bfe7e3af-02cb-4eb9-8657-cef829126853\">\n",
              "      Upload widget is only available when the cell has been executed in the\n",
              "      current browser session. Please rerun this cell to enable.\n",
              "      </output>\n",
              "      <script src=\"/nbextensions/google.colab/files.js\"></script> "
            ],
            "text/plain": [
              "<IPython.core.display.HTML object>"
            ]
          },
          "metadata": {
            "tags": []
          }
        },
        {
          "output_type": "stream",
          "text": [
            "Saving kaggle.json to kaggle.json\n",
            "Downloading life-expectancy-who.zip to /content\n",
            "  0% 0.00/119k [00:00<?, ?B/s]\n",
            "100% 119k/119k [00:00<00:00, 36.8MB/s]\n",
            "Downloading globses.zip to /content\n",
            "  0% 0.00/41.8k [00:00<?, ?B/s]\n",
            "100% 41.8k/41.8k [00:00<00:00, 35.3MB/s]\n",
            "Downloading economic-freedom.zip to /content\n",
            "  0% 0.00/403k [00:00<?, ?B/s]\n",
            "100% 403k/403k [00:00<00:00, 59.8MB/s]\n"
          ],
          "name": "stdout"
        }
      ]
    },
    {
      "cell_type": "markdown",
      "metadata": {
        "id": "eA1WSMDxoVKw",
        "colab_type": "text"
      },
      "source": [
        "Following the loading of datasets, relevant packages were then imported , these included the pandas, os and\n",
        "numpy packages."
      ]
    },
    {
      "cell_type": "code",
      "metadata": {
        "id": "yRY_L4tU4Cut",
        "colab_type": "code",
        "colab": {}
      },
      "source": [
        "# Importing All the Relevant Packages\n",
        "import pandas as pd\n",
        "import os\n",
        "import numpy as np"
      ],
      "execution_count": 0,
      "outputs": []
    },
    {
      "cell_type": "code",
      "metadata": {
        "id": "3_gBg_Frv__2",
        "colab_type": "code",
        "colab": {}
      },
      "source": [
        "pd.set_option('display.max_rows', 2500)\n",
        "pd.set_option('display.max_columns', 500)\n",
        "pd.set_option('display.width', 1000)"
      ],
      "execution_count": 0,
      "outputs": []
    },
    {
      "cell_type": "markdown",
      "metadata": {
        "id": "Hjtq-JuBodUR",
        "colab_type": "text"
      },
      "source": [
        "To make use of the datasets the files sourced directly from kaggle needed to be unzipped, whilst its original\n",
        "zip files were removed to optimise storage for the python environment."
      ]
    },
    {
      "cell_type": "code",
      "metadata": {
        "id": "a1R5bmO7njv0",
        "colab_type": "code",
        "outputId": "e613b097-b29c-4868-d6e8-0099fcafd2b5",
        "colab": {
          "base_uri": "https://localhost:8080/",
          "height": 119
        }
      },
      "source": [
        "# Unzipping the Datasets\n",
        "if not os.path.exists('Life Expectancy Data.csv'):\n",
        "  !unzip life-expectancy-who.zip\n",
        "os.remove('life-expectancy-who.zip')\n",
        "\n",
        "if not os.path.exists('GLOB.SES.csv'):\n",
        "  !unzip globses.zip  \n",
        "os.remove('globses.zip')\n",
        "\n",
        "if not os.path.exists('efw_cc.csv'):\n",
        "  !unzip economic-freedom.zip\n",
        "os.remove('economic-freedom.zip')"
      ],
      "execution_count": 0,
      "outputs": [
        {
          "output_type": "stream",
          "text": [
            "Archive:  life-expectancy-who.zip\n",
            "  inflating: Life Expectancy Data.csv  \n",
            "Archive:  globses.zip\n",
            "  inflating: GLOB.SES.csv            \n",
            "Archive:  economic-freedom.zip\n",
            "  inflating: efw_cc.csv              \n"
          ],
          "name": "stdout"
        }
      ]
    },
    {
      "cell_type": "markdown",
      "metadata": {
        "id": "N72-YYlOoibx",
        "colab_type": "text"
      },
      "source": [
        "The csv files extracted from the zipped files were then assigned as variable data frames using the pandas\n",
        "package."
      ]
    },
    {
      "cell_type": "code",
      "metadata": {
        "id": "bGJxdUqCDEPM",
        "colab_type": "code",
        "colab": {}
      },
      "source": [
        "le = pd.read_csv('Life Expectancy Data.csv')\n",
        "se = pd.read_csv('GLOB.SES.csv', encoding='latin-1')\n",
        "ef = pd.read_csv('efw_cc.csv')"
      ],
      "execution_count": 0,
      "outputs": []
    },
    {
      "cell_type": "markdown",
      "metadata": {
        "id": "zio5vQN5Fk28",
        "colab_type": "text"
      },
      "source": [
        "## Life Expectancy Inital Data Analysis and Cleaning"
      ]
    },
    {
      "cell_type": "markdown",
      "metadata": {
        "id": "skwIM6vNoofu",
        "colab_type": "text"
      },
      "source": [
        "Performing initial data analysis led to the use of various diagnostic tools which produced the following\n",
        "results."
      ]
    },
    {
      "cell_type": "code",
      "metadata": {
        "id": "YwQhPBk3BOM1",
        "colab_type": "code",
        "outputId": "0c756c2b-6828-433a-d431-40eab5a096ec",
        "colab": {
          "base_uri": "https://localhost:8080/",
          "height": 275
        }
      },
      "source": [
        "# Displays the first five rows of the le dataframe\n",
        "le.head(5)"
      ],
      "execution_count": 0,
      "outputs": [
        {
          "output_type": "execute_result",
          "data": {
            "text/html": [
              "<div>\n",
              "<style scoped>\n",
              "    .dataframe tbody tr th:only-of-type {\n",
              "        vertical-align: middle;\n",
              "    }\n",
              "\n",
              "    .dataframe tbody tr th {\n",
              "        vertical-align: top;\n",
              "    }\n",
              "\n",
              "    .dataframe thead th {\n",
              "        text-align: right;\n",
              "    }\n",
              "</style>\n",
              "<table border=\"1\" class=\"dataframe\">\n",
              "  <thead>\n",
              "    <tr style=\"text-align: right;\">\n",
              "      <th></th>\n",
              "      <th>Country</th>\n",
              "      <th>Year</th>\n",
              "      <th>Status</th>\n",
              "      <th>Life expectancy</th>\n",
              "      <th>Adult Mortality</th>\n",
              "      <th>infant deaths</th>\n",
              "      <th>Alcohol</th>\n",
              "      <th>percentage expenditure</th>\n",
              "      <th>Hepatitis B</th>\n",
              "      <th>Measles</th>\n",
              "      <th>BMI</th>\n",
              "      <th>under-five deaths</th>\n",
              "      <th>Polio</th>\n",
              "      <th>Total expenditure</th>\n",
              "      <th>Diphtheria</th>\n",
              "      <th>HIV/AIDS</th>\n",
              "      <th>GDP</th>\n",
              "      <th>Population</th>\n",
              "      <th>thinness  1-19 years</th>\n",
              "      <th>thinness 5-9 years</th>\n",
              "      <th>Income composition of resources</th>\n",
              "      <th>Schooling</th>\n",
              "    </tr>\n",
              "  </thead>\n",
              "  <tbody>\n",
              "    <tr>\n",
              "      <th>0</th>\n",
              "      <td>Afghanistan</td>\n",
              "      <td>2015</td>\n",
              "      <td>Developing</td>\n",
              "      <td>65.0</td>\n",
              "      <td>263.0</td>\n",
              "      <td>62</td>\n",
              "      <td>0.01</td>\n",
              "      <td>71.279624</td>\n",
              "      <td>65.0</td>\n",
              "      <td>1154</td>\n",
              "      <td>19.1</td>\n",
              "      <td>83</td>\n",
              "      <td>6.0</td>\n",
              "      <td>8.16</td>\n",
              "      <td>65.0</td>\n",
              "      <td>0.1</td>\n",
              "      <td>584.259210</td>\n",
              "      <td>33736494.0</td>\n",
              "      <td>17.2</td>\n",
              "      <td>17.3</td>\n",
              "      <td>0.479</td>\n",
              "      <td>10.1</td>\n",
              "    </tr>\n",
              "    <tr>\n",
              "      <th>1</th>\n",
              "      <td>Afghanistan</td>\n",
              "      <td>2014</td>\n",
              "      <td>Developing</td>\n",
              "      <td>59.9</td>\n",
              "      <td>271.0</td>\n",
              "      <td>64</td>\n",
              "      <td>0.01</td>\n",
              "      <td>73.523582</td>\n",
              "      <td>62.0</td>\n",
              "      <td>492</td>\n",
              "      <td>18.6</td>\n",
              "      <td>86</td>\n",
              "      <td>58.0</td>\n",
              "      <td>8.18</td>\n",
              "      <td>62.0</td>\n",
              "      <td>0.1</td>\n",
              "      <td>612.696514</td>\n",
              "      <td>327582.0</td>\n",
              "      <td>17.5</td>\n",
              "      <td>17.5</td>\n",
              "      <td>0.476</td>\n",
              "      <td>10.0</td>\n",
              "    </tr>\n",
              "    <tr>\n",
              "      <th>2</th>\n",
              "      <td>Afghanistan</td>\n",
              "      <td>2013</td>\n",
              "      <td>Developing</td>\n",
              "      <td>59.9</td>\n",
              "      <td>268.0</td>\n",
              "      <td>66</td>\n",
              "      <td>0.01</td>\n",
              "      <td>73.219243</td>\n",
              "      <td>64.0</td>\n",
              "      <td>430</td>\n",
              "      <td>18.1</td>\n",
              "      <td>89</td>\n",
              "      <td>62.0</td>\n",
              "      <td>8.13</td>\n",
              "      <td>64.0</td>\n",
              "      <td>0.1</td>\n",
              "      <td>631.744976</td>\n",
              "      <td>31731688.0</td>\n",
              "      <td>17.7</td>\n",
              "      <td>17.7</td>\n",
              "      <td>0.470</td>\n",
              "      <td>9.9</td>\n",
              "    </tr>\n",
              "    <tr>\n",
              "      <th>3</th>\n",
              "      <td>Afghanistan</td>\n",
              "      <td>2012</td>\n",
              "      <td>Developing</td>\n",
              "      <td>59.5</td>\n",
              "      <td>272.0</td>\n",
              "      <td>69</td>\n",
              "      <td>0.01</td>\n",
              "      <td>78.184215</td>\n",
              "      <td>67.0</td>\n",
              "      <td>2787</td>\n",
              "      <td>17.6</td>\n",
              "      <td>93</td>\n",
              "      <td>67.0</td>\n",
              "      <td>8.52</td>\n",
              "      <td>67.0</td>\n",
              "      <td>0.1</td>\n",
              "      <td>669.959000</td>\n",
              "      <td>3696958.0</td>\n",
              "      <td>17.9</td>\n",
              "      <td>18.0</td>\n",
              "      <td>0.463</td>\n",
              "      <td>9.8</td>\n",
              "    </tr>\n",
              "    <tr>\n",
              "      <th>4</th>\n",
              "      <td>Afghanistan</td>\n",
              "      <td>2011</td>\n",
              "      <td>Developing</td>\n",
              "      <td>59.2</td>\n",
              "      <td>275.0</td>\n",
              "      <td>71</td>\n",
              "      <td>0.01</td>\n",
              "      <td>7.097109</td>\n",
              "      <td>68.0</td>\n",
              "      <td>3013</td>\n",
              "      <td>17.2</td>\n",
              "      <td>97</td>\n",
              "      <td>68.0</td>\n",
              "      <td>7.87</td>\n",
              "      <td>68.0</td>\n",
              "      <td>0.1</td>\n",
              "      <td>63.537231</td>\n",
              "      <td>2978599.0</td>\n",
              "      <td>18.2</td>\n",
              "      <td>18.2</td>\n",
              "      <td>0.454</td>\n",
              "      <td>9.5</td>\n",
              "    </tr>\n",
              "  </tbody>\n",
              "</table>\n",
              "</div>"
            ],
            "text/plain": [
              "       Country  Year      Status  Life expectancy   Adult Mortality  infant deaths  Alcohol  percentage expenditure  Hepatitis B  Measles    BMI   under-five deaths   Polio  Total expenditure  Diphtheria    HIV/AIDS         GDP  Population   thinness  1-19 years   thinness 5-9 years  Income composition of resources  Schooling\n",
              "0  Afghanistan  2015  Developing              65.0            263.0             62     0.01               71.279624         65.0      1154   19.1                  83    6.0               8.16         65.0        0.1  584.259210  33736494.0                   17.2                 17.3                            0.479       10.1\n",
              "1  Afghanistan  2014  Developing              59.9            271.0             64     0.01               73.523582         62.0       492   18.6                  86   58.0               8.18         62.0        0.1  612.696514    327582.0                   17.5                 17.5                            0.476       10.0\n",
              "2  Afghanistan  2013  Developing              59.9            268.0             66     0.01               73.219243         64.0       430   18.1                  89   62.0               8.13         64.0        0.1  631.744976  31731688.0                   17.7                 17.7                            0.470        9.9\n",
              "3  Afghanistan  2012  Developing              59.5            272.0             69     0.01               78.184215         67.0      2787   17.6                  93   67.0               8.52         67.0        0.1  669.959000   3696958.0                   17.9                 18.0                            0.463        9.8\n",
              "4  Afghanistan  2011  Developing              59.2            275.0             71     0.01                7.097109         68.0      3013   17.2                  97   68.0               7.87         68.0        0.1   63.537231   2978599.0                   18.2                 18.2                            0.454        9.5"
            ]
          },
          "metadata": {
            "tags": []
          },
          "execution_count": 10
        }
      ]
    },
    {
      "cell_type": "markdown",
      "metadata": {
        "id": "3rjHUJ5XIhEQ",
        "colab_type": "text"
      },
      "source": [
        "### Understanding Columns"
      ]
    },
    {
      "cell_type": "markdown",
      "metadata": {
        "id": "JfPyfgJ5o9yG",
        "colab_type": "text"
      },
      "source": [
        "Through gaining insight into the data type of each feature it allowed an understanding of whether cleaning\n",
        "needs to be undertaken for specific cells. Since the data type matches the nature of each feature, that is\n",
        "quantitative values being considered either of a int64 or float 64 data type and qualitative measures as object\n",
        "data types, it is sensible to assume that each cell corresponds correctly to its associate feature. Recognising\n",
        "the potential uniqueness of each column was an extra diagnostic to again understand the data further, where\n",
        "learning from every column not being unique all the columns had values one or more values that were the\n",
        "same."
      ]
    },
    {
      "cell_type": "code",
      "metadata": {
        "id": "1KOAbTLxF9yM",
        "colab_type": "code",
        "outputId": "855f9719-0e4f-4ecb-fe81-99970425b0cc",
        "colab": {
          "base_uri": "https://localhost:8080/",
          "height": 836
        }
      },
      "source": [
        "# To understand the columns/features\n",
        "\n",
        "# Column names\n",
        "column_names = le.columns\n",
        "print(column_names)\n",
        "\n",
        "# Column data types\n",
        "print(le.dtypes)\n",
        "\n",
        "# Check if columns are unique\n",
        "count = 0\n",
        "for i in column_names:\n",
        "  print('{} is unique: {}'.format(i, le[i].is_unique))\n",
        "  if le[i].is_unique:\n",
        "    count += 1\n",
        "  \n",
        "print('There are', count, 'unique columns i.e. one or more values under that feature are the same.')"
      ],
      "execution_count": 0,
      "outputs": [
        {
          "output_type": "stream",
          "text": [
            "Index(['Country', 'Year', 'Status', 'Life expectancy ', 'Adult Mortality', 'infant deaths', 'Alcohol', 'percentage expenditure', 'Hepatitis B', 'Measles ', ' BMI ', 'under-five deaths ', 'Polio', 'Total expenditure', 'Diphtheria ', ' HIV/AIDS', 'GDP', 'Population', ' thinness  1-19 years', ' thinness 5-9 years', 'Income composition of resources', 'Schooling'], dtype='object')\n",
            "Country                             object\n",
            "Year                                 int64\n",
            "Status                              object\n",
            "Life expectancy                    float64\n",
            "Adult Mortality                    float64\n",
            "infant deaths                        int64\n",
            "Alcohol                            float64\n",
            "percentage expenditure             float64\n",
            "Hepatitis B                        float64\n",
            "Measles                              int64\n",
            " BMI                               float64\n",
            "under-five deaths                    int64\n",
            "Polio                              float64\n",
            "Total expenditure                  float64\n",
            "Diphtheria                         float64\n",
            " HIV/AIDS                          float64\n",
            "GDP                                float64\n",
            "Population                         float64\n",
            " thinness  1-19 years              float64\n",
            " thinness 5-9 years                float64\n",
            "Income composition of resources    float64\n",
            "Schooling                          float64\n",
            "dtype: object\n",
            "Country is unique: False\n",
            "Year is unique: False\n",
            "Status is unique: False\n",
            "Life expectancy  is unique: False\n",
            "Adult Mortality is unique: False\n",
            "infant deaths is unique: False\n",
            "Alcohol is unique: False\n",
            "percentage expenditure is unique: False\n",
            "Hepatitis B is unique: False\n",
            "Measles  is unique: False\n",
            " BMI  is unique: False\n",
            "under-five deaths  is unique: False\n",
            "Polio is unique: False\n",
            "Total expenditure is unique: False\n",
            "Diphtheria  is unique: False\n",
            " HIV/AIDS is unique: False\n",
            "GDP is unique: False\n",
            "Population is unique: False\n",
            " thinness  1-19 years is unique: False\n",
            " thinness 5-9 years is unique: False\n",
            "Income composition of resources is unique: False\n",
            "Schooling is unique: False\n",
            "There are 0 unique columns i.e. one or more values under that feature are the same.\n"
          ],
          "name": "stdout"
        }
      ]
    },
    {
      "cell_type": "markdown",
      "metadata": {
        "id": "_pQT2MK9pLRB",
        "colab_type": "text"
      },
      "source": [
        "The diagnostic above showing the column names was critical to seeing the addition of whitespaces in each\n",
        "feature where when called by the Pandas function would give way to possible syntax errors if it had not been\n",
        "considered. Thus the following deals with column name replacement removing whitespaces from the\n",
        "columns names that contained them."
      ]
    },
    {
      "cell_type": "code",
      "metadata": {
        "id": "zfBJa3iDb_J_",
        "colab_type": "code",
        "colab": {}
      },
      "source": [
        "# Replacing column names with extra spaces to be more suitable\n",
        "le.rename(columns={'Life expectancy ':'Life expectancy'}, inplace=True)\n",
        "le.rename(columns={' BMI ':'BMI'}, inplace=True)\n",
        "le.rename(columns={'Measles ':'Measles'}, inplace=True)\n",
        "le.rename(columns={'under-five deaths ':'under-five deaths'}, inplace=True)\n",
        "le.rename(columns={'Diphtheria ':'Diphtheria'}, inplace=True)\n",
        "le.rename(columns={' thinness 5-9 years':'thinness 5-9 years'}, inplace=True)\n",
        "le.rename(columns={' thinness  1-19 years':'thinness 1-19 years'}, inplace=True)\n",
        "le.rename(columns={' HIV/AIDS':'HIV/AIDS'}, inplace=True)"
      ],
      "execution_count": 0,
      "outputs": []
    },
    {
      "cell_type": "markdown",
      "metadata": {
        "id": "DBOCrXfYpOzu",
        "colab_type": "text"
      },
      "source": [
        "Checking the column names had been updated they were printed again."
      ]
    },
    {
      "cell_type": "code",
      "metadata": {
        "id": "iMzZqk0geMKE",
        "colab_type": "code",
        "outputId": "ee74b5c8-6c5f-4e37-873e-419adb7b8b5e",
        "colab": {
          "base_uri": "https://localhost:8080/",
          "height": 54
        }
      },
      "source": [
        "# update the columns list\n",
        "column_names = le.columns\n",
        "print(column_names)"
      ],
      "execution_count": 0,
      "outputs": [
        {
          "output_type": "stream",
          "text": [
            "Index(['Country', 'Year', 'Status', 'Life expectancy', 'Adult Mortality', 'infant deaths', 'Alcohol', 'percentage expenditure', 'Hepatitis B', 'Measles', 'BMI', 'under-five deaths', 'Polio', 'Total expenditure', 'Diphtheria', 'HIV/AIDS', 'GDP', 'Population', 'thinness 1-19 years', 'thinness 5-9 years', 'Income composition of resources', 'Schooling'], dtype='object')\n"
          ],
          "name": "stdout"
        }
      ]
    },
    {
      "cell_type": "markdown",
      "metadata": {
        "id": "llCOrl6OLKc5",
        "colab_type": "text"
      },
      "source": [
        "## Challenges with NaN values\n",
        "The dataset containing multiple NaN values in a number of the features this prevents optimal analysis. To\n",
        "overcome this we can predict their values from known features through multi-output regression - a\n",
        "multiclass algorithm - and random forest regression.\n",
        "\n",
        "A simple solution (below) is to replace the NaN values with medians, however this limits the accuracy\n",
        "unlike using the prediction method above.\n",
        "\n",
        "For simplicity's sake we'll apply the simple solution.\n",
        "\n",
        "Below is a simple diagnostic to see the number of NaN values that are present."
      ]
    },
    {
      "cell_type": "code",
      "metadata": {
        "id": "xv1IZs2aLJsR",
        "colab_type": "code",
        "outputId": "11204d21-8b90-40c8-f319-289c61419c28",
        "colab": {
          "base_uri": "https://localhost:8080/",
          "height": 408
        }
      },
      "source": [
        "# Finding the count of NaN values in each column\n",
        "le.isnull().sum()"
      ],
      "execution_count": 0,
      "outputs": [
        {
          "output_type": "execute_result",
          "data": {
            "text/plain": [
              "Country                              0\n",
              "Year                                 0\n",
              "Status                               0\n",
              "Life expectancy                     10\n",
              "Adult Mortality                     10\n",
              "infant deaths                        0\n",
              "Alcohol                            194\n",
              "percentage expenditure               0\n",
              "Hepatitis B                        553\n",
              "Measles                              0\n",
              "BMI                                 34\n",
              "under-five deaths                    0\n",
              "Polio                               19\n",
              "Total expenditure                  226\n",
              "Diphtheria                          19\n",
              "HIV/AIDS                             0\n",
              "GDP                                448\n",
              "Population                         652\n",
              "thinness 1-19 years                 34\n",
              "thinness 5-9 years                  34\n",
              "Income composition of resources    167\n",
              "Schooling                          163\n",
              "dtype: int64"
            ]
          },
          "metadata": {
            "tags": []
          },
          "execution_count": 14
        }
      ]
    },
    {
      "cell_type": "markdown",
      "metadata": {
        "id": "zB0nnwj0pg-P",
        "colab_type": "text"
      },
      "source": [
        "The median_replacement function above loops through the country list only completing median replacement\n",
        "for columns and countries where there is more than 0 NaN values. To ensure the most optimal median\n",
        "replacement only medians are inputted based on previous historical data being present on each country.\n",
        "Hence this is accounted by the variable, sel. As each sel segment for each country has its median replaced\n",
        "the new section is then updated to the main le dataframe.\n",
        "co ="
      ]
    },
    {
      "cell_type": "code",
      "metadata": {
        "id": "f37l-fdJirFG",
        "colab_type": "code",
        "colab": {}
      },
      "source": [
        "co = le.Country.unique()\n",
        "dfle = pd.read_csv('Life Expectancy Data.csv')\n",
        "\n",
        "# Replacing column names with extra spaces to be more suitable - so that the function is consistent when making references to both dfle and le\n",
        "dfle.rename(columns={'Life expectancy ':'Life expectancy'}, inplace=True)\n",
        "dfle.rename(columns={' BMI ':'BMI'}, inplace=True)\n",
        "dfle.rename(columns={'Measles ':'Measles'}, inplace=True)\n",
        "dfle.rename(columns={'under-five deaths ':'under-five deaths'}, inplace=True)\n",
        "dfle.rename(columns={'Diphtheria ':'Diphtheria'}, inplace=True)\n",
        "dfle.rename(columns={' thinness 5-9 years':'thinness 5-9 years'}, inplace=True)\n",
        "dfle.rename(columns={' thinness  1-19 years':'thinness 1-19 years'}, inplace=True)\n",
        "dfle.rename(columns={' HIV/AIDS':'HIV/AIDS'}, inplace=True)\n",
        "\n",
        "def median_replacement(col):\n",
        "  for i in co:\n",
        "    k = str(i)\n",
        "    sel = dfle.loc[dfle['Country'] == k]\n",
        "    if (len(dfle) - dfle[col].count()) > 0:\n",
        "      array = sel[sel[col]!=np.nan][col]\n",
        "      a = array.dropna(axis = 0, how = 'any')\n",
        "      b = sel[col].replace(np.nan,array.median())\n",
        "      le.update(b)\n",
        "  return"
      ],
      "execution_count": 0,
      "outputs": []
    },
    {
      "cell_type": "markdown",
      "metadata": {
        "id": "v9EtVeiMpr1T",
        "colab_type": "text"
      },
      "source": [
        "Recognising the first columns of the le dataframe are object data types a custom list of the columns was\n",
        "produced so that it could be looped through for use of the median replacement function as shown below."
      ]
    },
    {
      "cell_type": "code",
      "metadata": {
        "id": "WXz71mGzPAgz",
        "colab_type": "code",
        "colab": {}
      },
      "source": [
        "# Using the median replacement function across all columns\n",
        "cn = []\n",
        "count = 0\n",
        "for i in column_names:\n",
        "  if count >= 3:\n",
        "    cn.append(i)\n",
        "  count += 1\n",
        "\n",
        "for i in cn:\n",
        "  median_replacement(i)"
      ],
      "execution_count": 0,
      "outputs": []
    },
    {
      "cell_type": "markdown",
      "metadata": {
        "id": "2tnpDvghpuIZ",
        "colab_type": "text"
      },
      "source": [
        "The following were diagnostic tools to understand whether the median replacement function was effective at\n",
        "achieving its purpose."
      ]
    },
    {
      "cell_type": "code",
      "metadata": {
        "id": "Jxo2OxxziWR3",
        "colab_type": "code",
        "colab": {}
      },
      "source": [
        "# Checking fof NaN values in a specified column with respect to different countries that contain them\n",
        "#column = input('Which column would you like to see if any NaN values exist: ')\n",
        "#cs = str(column)\n",
        "#if column in cn:\n",
        "  #for i in co:\n",
        "    #k = str(i)\n",
        "    #sel = le.loc[le['Country'] == k]\n",
        "    #selc = sel[['Country', column]]\n",
        "    #if selc.isnull().values.any():\n",
        "      #print(selc)\n",
        "#else:\n",
        "  #print('Column does not exist in the dataset.')"
      ],
      "execution_count": 0,
      "outputs": []
    },
    {
      "cell_type": "code",
      "metadata": {
        "id": "lBmsCT6kCaJX",
        "colab_type": "code",
        "colab": {}
      },
      "source": [
        "# Checking the new changes median replacement values with respect to each country\n",
        "#i = input('Which country would you like view values for?: ')\n",
        "#k = str(i)\n",
        "#sel = le.loc[le['Country'] == k]\n",
        "#sel"
      ],
      "execution_count": 0,
      "outputs": []
    },
    {
      "cell_type": "markdown",
      "metadata": {
        "id": "WYknnNNpp_vo",
        "colab_type": "text"
      },
      "source": [
        "Since not all countries had historic data on every variable the following code considers those countries and\n",
        "removes them as no valuable insights can be drawn from them. Although some countries are disregarded\n",
        "from the dataset, it was considered that it would distort numerical summaries if kept and substituted with a\n",
        "value of 0. Moreover, only countries in which it retained data for all 15 years were kept so that every\n",
        "country can be compared appropriately; achieved using the for loop below. Finally, a diagnostic to check if\n",
        "any NaN values is conducted at the end."
      ]
    },
    {
      "cell_type": "code",
      "metadata": {
        "id": "sfsEI7Adle-2",
        "colab_type": "code",
        "outputId": "df6a2783-65b9-4c3d-fa33-b91cb18000a5",
        "colab": {
          "base_uri": "https://localhost:8080/",
          "height": 408
        }
      },
      "source": [
        "# First dropping rows in which any NaN values exist so to prevent distortion with data analysis\n",
        "le = le.dropna(axis = \"rows\")\n",
        "# Only selecting countries in which all the data is present across the 15 year period\n",
        "for i in co:\n",
        "    k = str(i)\n",
        "    sel = le.loc[le['Country'] == k]\n",
        "    if len(sel) < 16 and len(sel) == 1:\n",
        "      le.drop(sel, axis = 1)\n",
        "# Finding the count of NaN values in each column AFTER REPLACEMENT\n",
        "le.isnull().sum()"
      ],
      "execution_count": 0,
      "outputs": [
        {
          "output_type": "execute_result",
          "data": {
            "text/plain": [
              "Country                            0\n",
              "Year                               0\n",
              "Status                             0\n",
              "Life expectancy                    0\n",
              "Adult Mortality                    0\n",
              "infant deaths                      0\n",
              "Alcohol                            0\n",
              "percentage expenditure             0\n",
              "Hepatitis B                        0\n",
              "Measles                            0\n",
              "BMI                                0\n",
              "under-five deaths                  0\n",
              "Polio                              0\n",
              "Total expenditure                  0\n",
              "Diphtheria                         0\n",
              "HIV/AIDS                           0\n",
              "GDP                                0\n",
              "Population                         0\n",
              "thinness 1-19 years                0\n",
              "thinness 5-9 years                 0\n",
              "Income composition of resources    0\n",
              "Schooling                          0\n",
              "dtype: int64"
            ]
          },
          "metadata": {
            "tags": []
          },
          "execution_count": 19
        }
      ]
    },
    {
      "cell_type": "code",
      "metadata": {
        "id": "DUP8s1qvpEn8",
        "colab_type": "code",
        "colab": {}
      },
      "source": [
        "#le"
      ],
      "execution_count": 0,
      "outputs": []
    },
    {
      "cell_type": "code",
      "metadata": {
        "id": "wTPjRpxnsFVZ",
        "colab_type": "code",
        "colab": {}
      },
      "source": [
        "# Checking newly updated data of a specific row index\n",
        "#a = input('Display the row of the selected index: ')\n",
        "#c = int(a) - 1\n",
        "#b =  le.loc[[int(c)]]\n",
        "#print(b)"
      ],
      "execution_count": 0,
      "outputs": []
    },
    {
      "cell_type": "code",
      "metadata": {
        "id": "H9af1_XtkfPY",
        "colab_type": "code",
        "colab": {}
      },
      "source": [
        "# Drafted functions\n",
        "\n",
        "#def median_replacement(col):\n",
        "  #for i in co:\n",
        "    #k = str(i)\n",
        "    #sel = dfle.loc[dfle['Country'] == k]\n",
        "    #if len(sel) == 1:\n",
        "      #b = sel[col].replace(np.nan, 0)\n",
        "      #le.update(b)\n",
        "    #elif (len(dfle) - dfle[col].count()) > 0:\n",
        "      #array = sel[sel[col]!=np.nan][col]\n",
        "      #a = array.dropna(axis = 0, how = 'any')\n",
        "      #b = sel[col].replace(np.nan,array.median())\n",
        "      #le.update(b)\n",
        "  #return\n",
        "\n",
        "#def median_replacement2(col):\n",
        "  #for i in co:\n",
        "    #k = str(i)\n",
        "    #sel = dfle.loc[dfle['Country'] == k]\n",
        "    #if (len(dfle) - dfle[col].count()) > 0:\n",
        "        #array = le[le[col]!=np.nan][col]\n",
        "        #a = array.dropna(axis = 0, how = 'any')\n",
        "        #b = le[col].replace(np.nan,array.median())\n",
        "    #return le.update(b)\n",
        "\n",
        "#def median_replacement1(col):\n",
        "  #if (len(df) - df[col].count()) <= 400000:\n",
        "    #array = data[data[col]!=np.nan][col]\n",
        "    #a = array.dropna(axis = 0, how = 'any')\n",
        "    #b = data[col].replace(np.nan,array.median())\n",
        "    #return data.update(b)"
      ],
      "execution_count": 0,
      "outputs": []
    },
    {
      "cell_type": "markdown",
      "metadata": {
        "id": "a7Oe5JghqI_T",
        "colab_type": "text"
      },
      "source": [
        "This above data cleaning process was repeated again for the other two datasets with their reference variables\n",
        "changed accordingly. The same diagnostics and cleaning tools were initialised for them."
      ]
    },
    {
      "cell_type": "markdown",
      "metadata": {
        "id": "DXb5zYMt7my3",
        "colab_type": "text"
      },
      "source": [
        "## Socioeconomic Measures - Inital Data Analysis and Cleaning"
      ]
    },
    {
      "cell_type": "code",
      "metadata": {
        "id": "bZ-NsyaQBSlv",
        "colab_type": "code",
        "outputId": "da05e49c-1f9d-41d9-fb4d-0bc0c165af13",
        "colab": {
          "base_uri": "https://localhost:8080/",
          "height": 204
        }
      },
      "source": [
        "se.head(5)"
      ],
      "execution_count": 0,
      "outputs": [
        {
          "output_type": "execute_result",
          "data": {
            "text/html": [
              "<div>\n",
              "<style scoped>\n",
              "    .dataframe tbody tr th:only-of-type {\n",
              "        vertical-align: middle;\n",
              "    }\n",
              "\n",
              "    .dataframe tbody tr th {\n",
              "        vertical-align: top;\n",
              "    }\n",
              "\n",
              "    .dataframe thead th {\n",
              "        text-align: right;\n",
              "    }\n",
              "</style>\n",
              "<table border=\"1\" class=\"dataframe\">\n",
              "  <thead>\n",
              "    <tr style=\"text-align: right;\">\n",
              "      <th></th>\n",
              "      <th>unid</th>\n",
              "      <th>wbid</th>\n",
              "      <th>country</th>\n",
              "      <th>year</th>\n",
              "      <th>SES</th>\n",
              "      <th>gdppc</th>\n",
              "      <th>yrseduc</th>\n",
              "      <th>popshare</th>\n",
              "    </tr>\n",
              "  </thead>\n",
              "  <tbody>\n",
              "    <tr>\n",
              "      <th>0</th>\n",
              "      <td>4</td>\n",
              "      <td>AFG</td>\n",
              "      <td>Afghanistan</td>\n",
              "      <td>1970</td>\n",
              "      <td>3.474212</td>\n",
              "      <td>709.00000</td>\n",
              "      <td>NaN</td>\n",
              "      <td>0.003097</td>\n",
              "    </tr>\n",
              "    <tr>\n",
              "      <th>1</th>\n",
              "      <td>4</td>\n",
              "      <td>AFG</td>\n",
              "      <td>Afghanistan</td>\n",
              "      <td>1920</td>\n",
              "      <td>26.968016</td>\n",
              "      <td>731.75677</td>\n",
              "      <td>NaN</td>\n",
              "      <td>0.003245</td>\n",
              "    </tr>\n",
              "    <tr>\n",
              "      <th>2</th>\n",
              "      <td>4</td>\n",
              "      <td>AFG</td>\n",
              "      <td>Afghanistan</td>\n",
              "      <td>1990</td>\n",
              "      <td>1.269530</td>\n",
              "      <td>604.00000</td>\n",
              "      <td>NaN</td>\n",
              "      <td>0.002347</td>\n",
              "    </tr>\n",
              "    <tr>\n",
              "      <th>3</th>\n",
              "      <td>4</td>\n",
              "      <td>AFG</td>\n",
              "      <td>Afghanistan</td>\n",
              "      <td>1960</td>\n",
              "      <td>15.763076</td>\n",
              "      <td>739.00000</td>\n",
              "      <td>NaN</td>\n",
              "      <td>0.003039</td>\n",
              "    </tr>\n",
              "    <tr>\n",
              "      <th>4</th>\n",
              "      <td>4</td>\n",
              "      <td>AFG</td>\n",
              "      <td>Afghanistan</td>\n",
              "      <td>2000</td>\n",
              "      <td>2.061114</td>\n",
              "      <td>565.00000</td>\n",
              "      <td>NaN</td>\n",
              "      <td>0.003309</td>\n",
              "    </tr>\n",
              "  </tbody>\n",
              "</table>\n",
              "</div>"
            ],
            "text/plain": [
              "   unid wbid      country  year        SES      gdppc  yrseduc  popshare\n",
              "0     4  AFG  Afghanistan  1970   3.474212  709.00000      NaN  0.003097\n",
              "1     4  AFG  Afghanistan  1920  26.968016  731.75677      NaN  0.003245\n",
              "2     4  AFG  Afghanistan  1990   1.269530  604.00000      NaN  0.002347\n",
              "3     4  AFG  Afghanistan  1960  15.763076  739.00000      NaN  0.003039\n",
              "4     4  AFG  Afghanistan  2000   2.061114  565.00000      NaN  0.003309"
            ]
          },
          "metadata": {
            "tags": []
          },
          "execution_count": 23
        }
      ]
    },
    {
      "cell_type": "markdown",
      "metadata": {
        "id": "dxe3k3zG78_-",
        "colab_type": "text"
      },
      "source": [
        "### Understanding Columns"
      ]
    },
    {
      "cell_type": "code",
      "metadata": {
        "id": "JpI91HEb7-a9",
        "colab_type": "code",
        "outputId": "bc775743-cc04-46b6-dd96-dfa475ecf5c0",
        "colab": {
          "base_uri": "https://localhost:8080/",
          "height": 340
        }
      },
      "source": [
        "# Column names\n",
        "column_names_se = se.columns\n",
        "print(column_names_se)\n",
        "\n",
        "# Column data types\n",
        "print(se.dtypes)\n",
        "\n",
        "# Check if columns are unique\n",
        "count = 0\n",
        "for i in column_names_se:\n",
        "  print('{} is unique: {}'.format(i, se[i].is_unique))\n",
        "  if se[i].is_unique:\n",
        "    count += 1\n",
        "  \n",
        "print('There are', count, 'unique columns i.e. one or more values under that feature are the same.')"
      ],
      "execution_count": 0,
      "outputs": [
        {
          "output_type": "stream",
          "text": [
            "Index(['unid', 'wbid', 'country', 'year', 'SES', 'gdppc', 'yrseduc', 'popshare'], dtype='object')\n",
            "unid          int64\n",
            "wbid         object\n",
            "country      object\n",
            "year          int64\n",
            "SES         float64\n",
            "gdppc       float64\n",
            "yrseduc     float64\n",
            "popshare    float64\n",
            "dtype: object\n",
            "unid is unique: False\n",
            "wbid is unique: False\n",
            "country is unique: False\n",
            "year is unique: False\n",
            "SES is unique: False\n",
            "gdppc is unique: False\n",
            "yrseduc is unique: False\n",
            "popshare is unique: True\n",
            "There are 1 unique columns i.e. one or more values under that feature are the same.\n"
          ],
          "name": "stdout"
        }
      ]
    },
    {
      "cell_type": "markdown",
      "metadata": {
        "id": "CicWoOO68tYV",
        "colab_type": "text"
      },
      "source": [
        "### Refining via NaN replacement"
      ]
    },
    {
      "cell_type": "code",
      "metadata": {
        "id": "UP_9QNrw8rOC",
        "colab_type": "code",
        "outputId": "a1f1ef71-9162-4901-ca3a-185087410486",
        "colab": {
          "base_uri": "https://localhost:8080/",
          "height": 170
        }
      },
      "source": [
        "# Finding the count of NaN values in each column\n",
        "se.isnull().sum()"
      ],
      "execution_count": 0,
      "outputs": [
        {
          "output_type": "execute_result",
          "data": {
            "text/plain": [
              "unid           0\n",
              "wbid           0\n",
              "country        0\n",
              "year           0\n",
              "SES            0\n",
              "gdppc          0\n",
              "yrseduc     1050\n",
              "popshare       0\n",
              "dtype: int64"
            ]
          },
          "metadata": {
            "tags": []
          },
          "execution_count": 25
        }
      ]
    },
    {
      "cell_type": "code",
      "metadata": {
        "id": "M2B8YFmg9RMm",
        "colab_type": "code",
        "colab": {}
      },
      "source": [
        "co_se = se.country.unique()\n",
        "dfse = pd.read_csv('GLOB.SES.csv', encoding='latin-1')\n",
        "\n",
        "def median_replacement_se(col):\n",
        "  for i in co_se:\n",
        "    k = str(i)\n",
        "    sel = dfse.loc[dfse['country'] == k]\n",
        "    if (len(dfse) - dfse[col].count()) > 0:\n",
        "      array = sel[sel[col]!=np.nan][col]\n",
        "      b = sel[col].replace(np.nan,array.median())\n",
        "      se.update(b)\n",
        "  return"
      ],
      "execution_count": 0,
      "outputs": []
    },
    {
      "cell_type": "code",
      "metadata": {
        "id": "aa0lMAUB-suT",
        "colab_type": "code",
        "colab": {}
      },
      "source": [
        "# Using the median replacement function across all columns\n",
        "cn_se = []\n",
        "count_se = 0\n",
        "for i in column_names_se:\n",
        "  if count_se >= 3:\n",
        "    cn_se.append(i)\n",
        "  count_se += 1\n",
        "\n",
        "for i in cn_se:\n",
        "  median_replacement_se(i)"
      ],
      "execution_count": 0,
      "outputs": []
    },
    {
      "cell_type": "code",
      "metadata": {
        "id": "FDL0hkrv_Xh1",
        "colab_type": "code",
        "outputId": "e88cfc5c-04b7-44e4-ffa1-9df33475e121",
        "colab": {
          "base_uri": "https://localhost:8080/",
          "height": 170
        }
      },
      "source": [
        "# Finding the count of NaN values in each column AFTER MEDIAN REPLACEMENT\n",
        "se.isnull().sum()"
      ],
      "execution_count": 0,
      "outputs": [
        {
          "output_type": "execute_result",
          "data": {
            "text/plain": [
              "unid           0\n",
              "wbid           0\n",
              "country        0\n",
              "year           0\n",
              "SES            0\n",
              "gdppc          0\n",
              "yrseduc     1050\n",
              "popshare       0\n",
              "dtype: int64"
            ]
          },
          "metadata": {
            "tags": []
          },
          "execution_count": 28
        }
      ]
    },
    {
      "cell_type": "code",
      "metadata": {
        "id": "3bIanqUD_g2W",
        "colab_type": "code",
        "outputId": "537dd080-4b2e-4987-d59f-673162be9d76",
        "colab": {
          "base_uri": "https://localhost:8080/",
          "height": 170
        }
      },
      "source": [
        "# First dropping rows in which any NaN values exist so to prevent distortion with data analysis\n",
        "se = se.dropna(axis = \"rows\")\n",
        "# Only selecting countries in which all the data is present across the 15 year period\n",
        "for i in co_se:\n",
        "    k = str(i)\n",
        "    sel = se.loc[se['country'] == k]\n",
        "    if len(sel) < 14:\n",
        "      se.drop(sel, axis = 1)\n",
        "# Finding the count of NaN values in each column AFTER REPLACEMENT\n",
        "se.isnull().sum()"
      ],
      "execution_count": 0,
      "outputs": [
        {
          "output_type": "execute_result",
          "data": {
            "text/plain": [
              "unid        0\n",
              "wbid        0\n",
              "country     0\n",
              "year        0\n",
              "SES         0\n",
              "gdppc       0\n",
              "yrseduc     0\n",
              "popshare    0\n",
              "dtype: int64"
            ]
          },
          "metadata": {
            "tags": []
          },
          "execution_count": 29
        }
      ]
    },
    {
      "cell_type": "code",
      "metadata": {
        "id": "C_zWwIx7_9pZ",
        "colab_type": "code",
        "colab": {}
      },
      "source": [
        "#se"
      ],
      "execution_count": 0,
      "outputs": []
    },
    {
      "cell_type": "markdown",
      "metadata": {
        "id": "C-1KiPn2AVj0",
        "colab_type": "text"
      },
      "source": [
        "## Measures Relating to Economic Freedom - Inital Data Analysis and Cleaning"
      ]
    },
    {
      "cell_type": "code",
      "metadata": {
        "id": "J_i4wj1SBTaR",
        "colab_type": "code",
        "outputId": "0ae7a1c8-db98-401c-b1f5-65812554b385",
        "colab": {
          "base_uri": "https://localhost:8080/",
          "height": 241
        }
      },
      "source": [
        "ef.head(5)"
      ],
      "execution_count": 0,
      "outputs": [
        {
          "output_type": "execute_result",
          "data": {
            "text/html": [
              "<div>\n",
              "<style scoped>\n",
              "    .dataframe tbody tr th:only-of-type {\n",
              "        vertical-align: middle;\n",
              "    }\n",
              "\n",
              "    .dataframe tbody tr th {\n",
              "        vertical-align: top;\n",
              "    }\n",
              "\n",
              "    .dataframe thead th {\n",
              "        text-align: right;\n",
              "    }\n",
              "</style>\n",
              "<table border=\"1\" class=\"dataframe\">\n",
              "  <thead>\n",
              "    <tr style=\"text-align: right;\">\n",
              "      <th></th>\n",
              "      <th>year</th>\n",
              "      <th>ISO_code</th>\n",
              "      <th>countries</th>\n",
              "      <th>ECONOMIC FREEDOM</th>\n",
              "      <th>rank</th>\n",
              "      <th>quartile</th>\n",
              "      <th>1a_government_consumption</th>\n",
              "      <th>1b_transfers</th>\n",
              "      <th>1c_gov_enterprises</th>\n",
              "      <th>1d_top_marg_tax_rate</th>\n",
              "      <th>1_size_government</th>\n",
              "      <th>2a_judicial_independence</th>\n",
              "      <th>2b_impartial_courts</th>\n",
              "      <th>2c_protection_property_rights</th>\n",
              "      <th>2d_military_interference</th>\n",
              "      <th>2e_integrity_legal_system</th>\n",
              "      <th>2f_legal_enforcement_contracts</th>\n",
              "      <th>2g_restrictions_sale_real_property</th>\n",
              "      <th>2h_reliability_police</th>\n",
              "      <th>2i_business_costs_crime</th>\n",
              "      <th>2j_gender_adjustment</th>\n",
              "      <th>2_property_rights</th>\n",
              "      <th>3a_money_growth</th>\n",
              "      <th>3b_std_inflation</th>\n",
              "      <th>3c_inflation</th>\n",
              "      <th>3d_freedom_own_foreign_currency</th>\n",
              "      <th>3_sound_money</th>\n",
              "      <th>4a_tariffs</th>\n",
              "      <th>4b_regulatory_trade_barriers</th>\n",
              "      <th>4c_black_market</th>\n",
              "      <th>4d_control_movement_capital_ppl</th>\n",
              "      <th>4_trade</th>\n",
              "      <th>5a_credit_market_reg</th>\n",
              "      <th>5b_labor_market_reg</th>\n",
              "      <th>5c_business_reg</th>\n",
              "      <th>5_regulation</th>\n",
              "    </tr>\n",
              "  </thead>\n",
              "  <tbody>\n",
              "    <tr>\n",
              "      <th>0</th>\n",
              "      <td>2016</td>\n",
              "      <td>ALB</td>\n",
              "      <td>Albania</td>\n",
              "      <td>7.54</td>\n",
              "      <td>34.0</td>\n",
              "      <td>1.0</td>\n",
              "      <td>8.232353</td>\n",
              "      <td>7.509902</td>\n",
              "      <td>8.0</td>\n",
              "      <td>8.0</td>\n",
              "      <td>7.935564</td>\n",
              "      <td>2.668222</td>\n",
              "      <td>3.145462</td>\n",
              "      <td>4.512228</td>\n",
              "      <td>8.333333</td>\n",
              "      <td>4.166667</td>\n",
              "      <td>4.387444</td>\n",
              "      <td>6.485287</td>\n",
              "      <td>6.933500</td>\n",
              "      <td>6.215401</td>\n",
              "      <td>0.948718</td>\n",
              "      <td>5.071814</td>\n",
              "      <td>8.986454</td>\n",
              "      <td>9.484575</td>\n",
              "      <td>9.74360</td>\n",
              "      <td>10.0</td>\n",
              "      <td>9.553657</td>\n",
              "      <td>8.963556</td>\n",
              "      <td>7.489905</td>\n",
              "      <td>10.00000</td>\n",
              "      <td>6.406138</td>\n",
              "      <td>8.214900</td>\n",
              "      <td>7.098562</td>\n",
              "      <td>6.916278</td>\n",
              "      <td>6.705863</td>\n",
              "      <td>6.906901</td>\n",
              "    </tr>\n",
              "    <tr>\n",
              "      <th>1</th>\n",
              "      <td>2016</td>\n",
              "      <td>DZA</td>\n",
              "      <td>Algeria</td>\n",
              "      <td>4.99</td>\n",
              "      <td>159.0</td>\n",
              "      <td>4.0</td>\n",
              "      <td>2.150000</td>\n",
              "      <td>7.817129</td>\n",
              "      <td>0.0</td>\n",
              "      <td>4.5</td>\n",
              "      <td>3.616782</td>\n",
              "      <td>4.186704</td>\n",
              "      <td>4.327113</td>\n",
              "      <td>4.689952</td>\n",
              "      <td>4.166667</td>\n",
              "      <td>5.000000</td>\n",
              "      <td>4.507538</td>\n",
              "      <td>6.626692</td>\n",
              "      <td>6.136845</td>\n",
              "      <td>6.737383</td>\n",
              "      <td>0.820513</td>\n",
              "      <td>4.690743</td>\n",
              "      <td>6.955962</td>\n",
              "      <td>8.339152</td>\n",
              "      <td>8.72046</td>\n",
              "      <td>5.0</td>\n",
              "      <td>7.253894</td>\n",
              "      <td>6.872533</td>\n",
              "      <td>2.481294</td>\n",
              "      <td>5.56391</td>\n",
              "      <td>1.590362</td>\n",
              "      <td>4.127025</td>\n",
              "      <td>5.100509</td>\n",
              "      <td>5.029513</td>\n",
              "      <td>5.676956</td>\n",
              "      <td>5.268992</td>\n",
              "    </tr>\n",
              "    <tr>\n",
              "      <th>2</th>\n",
              "      <td>2016</td>\n",
              "      <td>AGO</td>\n",
              "      <td>Angola</td>\n",
              "      <td>5.17</td>\n",
              "      <td>155.0</td>\n",
              "      <td>4.0</td>\n",
              "      <td>7.600000</td>\n",
              "      <td>8.886739</td>\n",
              "      <td>0.0</td>\n",
              "      <td>9.5</td>\n",
              "      <td>6.496685</td>\n",
              "      <td>1.843129</td>\n",
              "      <td>1.974566</td>\n",
              "      <td>2.512364</td>\n",
              "      <td>3.333333</td>\n",
              "      <td>4.166667</td>\n",
              "      <td>2.302200</td>\n",
              "      <td>5.455882</td>\n",
              "      <td>3.016104</td>\n",
              "      <td>4.291197</td>\n",
              "      <td>0.846154</td>\n",
              "      <td>2.963635</td>\n",
              "      <td>9.385679</td>\n",
              "      <td>4.986742</td>\n",
              "      <td>3.05400</td>\n",
              "      <td>5.0</td>\n",
              "      <td>5.606605</td>\n",
              "      <td>6.989244</td>\n",
              "      <td>2.024949</td>\n",
              "      <td>10.00000</td>\n",
              "      <td>2.044823</td>\n",
              "      <td>5.264754</td>\n",
              "      <td>7.064905</td>\n",
              "      <td>4.560325</td>\n",
              "      <td>4.930271</td>\n",
              "      <td>5.518500</td>\n",
              "    </tr>\n",
              "    <tr>\n",
              "      <th>3</th>\n",
              "      <td>2016</td>\n",
              "      <td>ARG</td>\n",
              "      <td>Argentina</td>\n",
              "      <td>4.84</td>\n",
              "      <td>160.0</td>\n",
              "      <td>4.0</td>\n",
              "      <td>5.335294</td>\n",
              "      <td>6.048930</td>\n",
              "      <td>6.0</td>\n",
              "      <td>4.0</td>\n",
              "      <td>5.346056</td>\n",
              "      <td>3.689690</td>\n",
              "      <td>2.930563</td>\n",
              "      <td>4.255995</td>\n",
              "      <td>7.500000</td>\n",
              "      <td>3.333333</td>\n",
              "      <td>3.632872</td>\n",
              "      <td>6.857195</td>\n",
              "      <td>3.385786</td>\n",
              "      <td>4.133832</td>\n",
              "      <td>0.769231</td>\n",
              "      <td>3.904030</td>\n",
              "      <td>5.233264</td>\n",
              "      <td>5.224079</td>\n",
              "      <td>2.00000</td>\n",
              "      <td>10.0</td>\n",
              "      <td>5.614336</td>\n",
              "      <td>6.421600</td>\n",
              "      <td>4.811105</td>\n",
              "      <td>0.00000</td>\n",
              "      <td>4.697482</td>\n",
              "      <td>3.982547</td>\n",
              "      <td>5.419820</td>\n",
              "      <td>5.151405</td>\n",
              "      <td>5.535831</td>\n",
              "      <td>5.369019</td>\n",
              "    </tr>\n",
              "    <tr>\n",
              "      <th>4</th>\n",
              "      <td>2016</td>\n",
              "      <td>ARM</td>\n",
              "      <td>Armenia</td>\n",
              "      <td>7.57</td>\n",
              "      <td>29.0</td>\n",
              "      <td>1.0</td>\n",
              "      <td>7.264706</td>\n",
              "      <td>7.748532</td>\n",
              "      <td>8.0</td>\n",
              "      <td>5.0</td>\n",
              "      <td>7.003310</td>\n",
              "      <td>3.867379</td>\n",
              "      <td>4.197569</td>\n",
              "      <td>5.664317</td>\n",
              "      <td>5.833333</td>\n",
              "      <td>5.000000</td>\n",
              "      <td>5.196693</td>\n",
              "      <td>9.801963</td>\n",
              "      <td>5.714028</td>\n",
              "      <td>7.007654</td>\n",
              "      <td>1.000000</td>\n",
              "      <td>5.809215</td>\n",
              "      <td>9.078264</td>\n",
              "      <td>9.263496</td>\n",
              "      <td>9.74600</td>\n",
              "      <td>10.0</td>\n",
              "      <td>9.521940</td>\n",
              "      <td>8.547556</td>\n",
              "      <td>7.194410</td>\n",
              "      <td>10.00000</td>\n",
              "      <td>6.830998</td>\n",
              "      <td>8.143241</td>\n",
              "      <td>9.102046</td>\n",
              "      <td>6.234630</td>\n",
              "      <td>6.797530</td>\n",
              "      <td>7.378069</td>\n",
              "    </tr>\n",
              "  </tbody>\n",
              "</table>\n",
              "</div>"
            ],
            "text/plain": [
              "   year ISO_code  countries  ECONOMIC FREEDOM   rank  quartile  1a_government_consumption  1b_transfers  1c_gov_enterprises  1d_top_marg_tax_rate  1_size_government  2a_judicial_independence  2b_impartial_courts  2c_protection_property_rights  2d_military_interference  2e_integrity_legal_system  2f_legal_enforcement_contracts  2g_restrictions_sale_real_property  2h_reliability_police  2i_business_costs_crime  2j_gender_adjustment  2_property_rights  3a_money_growth  3b_std_inflation  3c_inflation  3d_freedom_own_foreign_currency  3_sound_money  4a_tariffs  4b_regulatory_trade_barriers  4c_black_market  4d_control_movement_capital_ppl   4_trade  5a_credit_market_reg  5b_labor_market_reg  5c_business_reg  5_regulation\n",
              "0  2016      ALB    Albania              7.54   34.0       1.0                   8.232353      7.509902                 8.0                   8.0           7.935564                  2.668222             3.145462                       4.512228                  8.333333                   4.166667                        4.387444                            6.485287               6.933500                 6.215401              0.948718           5.071814         8.986454          9.484575       9.74360                             10.0       9.553657    8.963556                      7.489905         10.00000                         6.406138  8.214900              7.098562             6.916278         6.705863      6.906901\n",
              "1  2016      DZA    Algeria              4.99  159.0       4.0                   2.150000      7.817129                 0.0                   4.5           3.616782                  4.186704             4.327113                       4.689952                  4.166667                   5.000000                        4.507538                            6.626692               6.136845                 6.737383              0.820513           4.690743         6.955962          8.339152       8.72046                              5.0       7.253894    6.872533                      2.481294          5.56391                         1.590362  4.127025              5.100509             5.029513         5.676956      5.268992\n",
              "2  2016      AGO     Angola              5.17  155.0       4.0                   7.600000      8.886739                 0.0                   9.5           6.496685                  1.843129             1.974566                       2.512364                  3.333333                   4.166667                        2.302200                            5.455882               3.016104                 4.291197              0.846154           2.963635         9.385679          4.986742       3.05400                              5.0       5.606605    6.989244                      2.024949         10.00000                         2.044823  5.264754              7.064905             4.560325         4.930271      5.518500\n",
              "3  2016      ARG  Argentina              4.84  160.0       4.0                   5.335294      6.048930                 6.0                   4.0           5.346056                  3.689690             2.930563                       4.255995                  7.500000                   3.333333                        3.632872                            6.857195               3.385786                 4.133832              0.769231           3.904030         5.233264          5.224079       2.00000                             10.0       5.614336    6.421600                      4.811105          0.00000                         4.697482  3.982547              5.419820             5.151405         5.535831      5.369019\n",
              "4  2016      ARM    Armenia              7.57   29.0       1.0                   7.264706      7.748532                 8.0                   5.0           7.003310                  3.867379             4.197569                       5.664317                  5.833333                   5.000000                        5.196693                            9.801963               5.714028                 7.007654              1.000000           5.809215         9.078264          9.263496       9.74600                             10.0       9.521940    8.547556                      7.194410         10.00000                         6.830998  8.143241              9.102046             6.234630         6.797530      7.378069"
            ]
          },
          "metadata": {
            "tags": []
          },
          "execution_count": 31
        }
      ]
    },
    {
      "cell_type": "code",
      "metadata": {
        "id": "Vwq9pG3wAe5B",
        "colab_type": "code",
        "outputId": "2325c019-eefa-4c9e-b2ad-748c62678f4f",
        "colab": {
          "base_uri": "https://localhost:8080/",
          "height": 1312
        }
      },
      "source": [
        "# Column names\n",
        "column_names_ef = ef.columns\n",
        "print(column_names_ef)\n",
        "\n",
        "# Column data types\n",
        "print(ef.dtypes)\n",
        "\n",
        "# Check if columns are unique\n",
        "count = 0\n",
        "for i in column_names_ef:\n",
        "  print('{} is unique: {}'.format(i, ef[i].is_unique))\n",
        "  if ef[i].is_unique:\n",
        "    count += 1\n",
        "  \n",
        "print('There are', count, 'unique columns i.e. one or more values under that feature are the same.')"
      ],
      "execution_count": 0,
      "outputs": [
        {
          "output_type": "stream",
          "text": [
            "Index(['year', 'ISO_code', 'countries', 'ECONOMIC FREEDOM', 'rank', 'quartile', '1a_government_consumption', '1b_transfers', '1c_gov_enterprises', '1d_top_marg_tax_rate', '1_size_government', '2a_judicial_independence', '2b_impartial_courts', '2c_protection_property_rights', '2d_military_interference', '2e_integrity_legal_system', '2f_legal_enforcement_contracts', '2g_restrictions_sale_real_property', '2h_reliability_police', '2i_business_costs_crime', '2j_gender_adjustment', '2_property_rights', '3a_money_growth', '3b_std_inflation', '3c_inflation', '3d_freedom_own_foreign_currency', '3_sound_money', '4a_tariffs', '4b_regulatory_trade_barriers', '4c_black_market', '4d_control_movement_capital_ppl', '4_trade', '5a_credit_market_reg', '5b_labor_market_reg', '5c_business_reg', '5_regulation'], dtype='object')\n",
            "year                                    int64\n",
            "ISO_code                               object\n",
            "countries                              object\n",
            "ECONOMIC FREEDOM                      float64\n",
            "rank                                  float64\n",
            "quartile                              float64\n",
            "1a_government_consumption             float64\n",
            "1b_transfers                          float64\n",
            "1c_gov_enterprises                    float64\n",
            "1d_top_marg_tax_rate                  float64\n",
            "1_size_government                     float64\n",
            "2a_judicial_independence              float64\n",
            "2b_impartial_courts                   float64\n",
            "2c_protection_property_rights         float64\n",
            "2d_military_interference              float64\n",
            "2e_integrity_legal_system             float64\n",
            "2f_legal_enforcement_contracts        float64\n",
            "2g_restrictions_sale_real_property    float64\n",
            "2h_reliability_police                 float64\n",
            "2i_business_costs_crime               float64\n",
            "2j_gender_adjustment                  float64\n",
            "2_property_rights                     float64\n",
            "3a_money_growth                       float64\n",
            "3b_std_inflation                      float64\n",
            "3c_inflation                          float64\n",
            "3d_freedom_own_foreign_currency       float64\n",
            "3_sound_money                         float64\n",
            "4a_tariffs                            float64\n",
            "4b_regulatory_trade_barriers          float64\n",
            "4c_black_market                       float64\n",
            "4d_control_movement_capital_ppl       float64\n",
            "4_trade                               float64\n",
            "5a_credit_market_reg                  float64\n",
            "5b_labor_market_reg                   float64\n",
            "5c_business_reg                       float64\n",
            "5_regulation                          float64\n",
            "dtype: object\n",
            "year is unique: False\n",
            "ISO_code is unique: False\n",
            "countries is unique: False\n",
            "ECONOMIC FREEDOM is unique: False\n",
            "rank is unique: False\n",
            "quartile is unique: False\n",
            "1a_government_consumption is unique: False\n",
            "1b_transfers is unique: False\n",
            "1c_gov_enterprises is unique: False\n",
            "1d_top_marg_tax_rate is unique: False\n",
            "1_size_government is unique: False\n",
            "2a_judicial_independence is unique: False\n",
            "2b_impartial_courts is unique: False\n",
            "2c_protection_property_rights is unique: False\n",
            "2d_military_interference is unique: False\n",
            "2e_integrity_legal_system is unique: False\n",
            "2f_legal_enforcement_contracts is unique: False\n",
            "2g_restrictions_sale_real_property is unique: False\n",
            "2h_reliability_police is unique: False\n",
            "2i_business_costs_crime is unique: False\n",
            "2j_gender_adjustment is unique: False\n",
            "2_property_rights is unique: False\n",
            "3a_money_growth is unique: False\n",
            "3b_std_inflation is unique: False\n",
            "3c_inflation is unique: False\n",
            "3d_freedom_own_foreign_currency is unique: False\n",
            "3_sound_money is unique: False\n",
            "4a_tariffs is unique: False\n",
            "4b_regulatory_trade_barriers is unique: False\n",
            "4c_black_market is unique: False\n",
            "4d_control_movement_capital_ppl is unique: False\n",
            "4_trade is unique: False\n",
            "5a_credit_market_reg is unique: False\n",
            "5b_labor_market_reg is unique: False\n",
            "5c_business_reg is unique: False\n",
            "5_regulation is unique: False\n",
            "There are 0 unique columns i.e. one or more values under that feature are the same.\n"
          ],
          "name": "stdout"
        }
      ]
    },
    {
      "cell_type": "markdown",
      "metadata": {
        "id": "S5C6q02yBLLI",
        "colab_type": "text"
      },
      "source": [
        "### Refining via NaN replacement"
      ]
    },
    {
      "cell_type": "code",
      "metadata": {
        "id": "uf_OOyaLBDxg",
        "colab_type": "code",
        "outputId": "f65ca4a7-20d0-47a4-8f62-3e925853cb9f",
        "colab": {
          "base_uri": "https://localhost:8080/",
          "height": 646
        }
      },
      "source": [
        "# Finding the count of NaN values in each column\n",
        "null_bef_ef = ef.isnull().sum()\n",
        "null_bef_ef"
      ],
      "execution_count": 0,
      "outputs": [
        {
          "output_type": "execute_result",
          "data": {
            "text/plain": [
              "year                                     0\n",
              "ISO_code                                 0\n",
              "countries                                0\n",
              "ECONOMIC FREEDOM                       723\n",
              "rank                                   723\n",
              "quartile                               723\n",
              "1a_government_consumption              589\n",
              "1b_transfers                           960\n",
              "1c_gov_enterprises                     646\n",
              "1d_top_marg_tax_rate                  1047\n",
              "1_size_government                      647\n",
              "2a_judicial_independence              1553\n",
              "2b_impartial_courts                   1179\n",
              "2c_protection_property_rights         1129\n",
              "2d_military_interference              1186\n",
              "2e_integrity_legal_system             1153\n",
              "2f_legal_enforcement_contracts        1361\n",
              "2g_restrictions_sale_real_property    1384\n",
              "2h_reliability_police                 2071\n",
              "2i_business_costs_crime               2071\n",
              "2j_gender_adjustment                    66\n",
              "2_property_rights                      755\n",
              "3a_money_growth                        644\n",
              "3b_std_inflation                       607\n",
              "3c_inflation                           607\n",
              "3d_freedom_own_foreign_currency        621\n",
              "3_sound_money                          611\n",
              "4a_tariffs                             681\n",
              "4b_regulatory_trade_barriers          1348\n",
              "4c_black_market                        617\n",
              "4d_control_movement_capital_ppl        592\n",
              "4_trade                                691\n",
              "5a_credit_market_reg                   619\n",
              "5b_labor_market_reg                   1158\n",
              "5c_business_reg                       1402\n",
              "5_regulation                           728\n",
              "dtype: int64"
            ]
          },
          "metadata": {
            "tags": []
          },
          "execution_count": 33
        }
      ]
    },
    {
      "cell_type": "code",
      "metadata": {
        "id": "NWTP4MvsFret",
        "colab_type": "code",
        "colab": {}
      },
      "source": [
        "co_ef = ef.countries.unique()\n",
        "dfef = pd.read_csv('efw_cc.csv')\n",
        "\n",
        "def median_replacement_ef(col):\n",
        "  for i in co_ef:\n",
        "    k = str(i)\n",
        "    sel = dfef.loc[dfef['countries'] == k]\n",
        "    if (len(dfef) - dfef[col].count()) > 0:\n",
        "      array = sel[sel[col]!=np.nan][col]\n",
        "      b = sel[col].replace(np.nan,array.median())\n",
        "      ef.update(b)\n",
        "  return"
      ],
      "execution_count": 0,
      "outputs": []
    },
    {
      "cell_type": "code",
      "metadata": {
        "id": "8Yj2uHmTGSEE",
        "colab_type": "code",
        "colab": {}
      },
      "source": [
        "# Using the median replacement function across all columns\n",
        "cn_ef = []\n",
        "count_ef = 0\n",
        "for i in column_names_ef:\n",
        "  if count_ef >= 3:\n",
        "    cn_ef.append(i)\n",
        "  count_ef += 1\n",
        "\n",
        "for i in cn_ef:\n",
        "  median_replacement_ef(i)"
      ],
      "execution_count": 0,
      "outputs": []
    },
    {
      "cell_type": "code",
      "metadata": {
        "id": "YKgIn-79GuYp",
        "colab_type": "code",
        "outputId": "fb4e3c42-40e6-4c6d-91f0-8a6ceba48009",
        "colab": {
          "base_uri": "https://localhost:8080/",
          "height": 646
        }
      },
      "source": [
        "# Finding the count of NaN values in each column AFTER MEDIAN REPLACEMENT\n",
        "null_af_ef = ef.isnull().sum()\n",
        "null_af_ef"
      ],
      "execution_count": 0,
      "outputs": [
        {
          "output_type": "execute_result",
          "data": {
            "text/plain": [
              "year                                    0\n",
              "ISO_code                                0\n",
              "countries                               0\n",
              "ECONOMIC FREEDOM                        0\n",
              "rank                                    0\n",
              "quartile                                0\n",
              "1a_government_consumption               0\n",
              "1b_transfers                          253\n",
              "1c_gov_enterprises                    115\n",
              "1d_top_marg_tax_rate                    0\n",
              "1_size_government                       0\n",
              "2a_judicial_independence              115\n",
              "2b_impartial_courts                     0\n",
              "2c_protection_property_rights          69\n",
              "2d_military_interference                0\n",
              "2e_integrity_legal_system             368\n",
              "2f_legal_enforcement_contracts          0\n",
              "2g_restrictions_sale_real_property     23\n",
              "2h_reliability_police                 115\n",
              "2i_business_costs_crime               115\n",
              "2j_gender_adjustment                    0\n",
              "2_property_rights                       0\n",
              "3a_money_growth                         0\n",
              "3b_std_inflation                        0\n",
              "3c_inflation                            0\n",
              "3d_freedom_own_foreign_currency         0\n",
              "3_sound_money                           0\n",
              "4a_tariffs                             23\n",
              "4b_regulatory_trade_barriers            0\n",
              "4c_black_market                        23\n",
              "4d_control_movement_capital_ppl         0\n",
              "4_trade                                 0\n",
              "5a_credit_market_reg                    0\n",
              "5b_labor_market_reg                     0\n",
              "5c_business_reg                         0\n",
              "5_regulation                            0\n",
              "dtype: int64"
            ]
          },
          "metadata": {
            "tags": []
          },
          "execution_count": 36
        }
      ]
    },
    {
      "cell_type": "code",
      "metadata": {
        "id": "-mH5by1QHIjv",
        "colab_type": "code",
        "outputId": "0cce049f-1d83-4a1b-8fcf-e1c424e9369a",
        "colab": {
          "base_uri": "https://localhost:8080/",
          "height": 646
        }
      },
      "source": [
        "# First dropping rows in which any NaN values exist so to prevent distortion with data analysis\n",
        "ef = ef.dropna(axis = \"rows\")\n",
        "# Only selecting countries in which all the data is present across the 15 year period\n",
        "for i in co_ef:\n",
        "    k = str(i)\n",
        "    sel = ef.loc[ef['countries'] == k]\n",
        "    if len(sel) < 23:\n",
        "      ef.drop(sel, axis = 1)\n",
        "# Finding the count of NaN values in each column AFTER COMPLETE REPLACEMENT\n",
        "ef.isnull().sum()"
      ],
      "execution_count": 0,
      "outputs": [
        {
          "output_type": "execute_result",
          "data": {
            "text/plain": [
              "year                                  0\n",
              "ISO_code                              0\n",
              "countries                             0\n",
              "ECONOMIC FREEDOM                      0\n",
              "rank                                  0\n",
              "quartile                              0\n",
              "1a_government_consumption             0\n",
              "1b_transfers                          0\n",
              "1c_gov_enterprises                    0\n",
              "1d_top_marg_tax_rate                  0\n",
              "1_size_government                     0\n",
              "2a_judicial_independence              0\n",
              "2b_impartial_courts                   0\n",
              "2c_protection_property_rights         0\n",
              "2d_military_interference              0\n",
              "2e_integrity_legal_system             0\n",
              "2f_legal_enforcement_contracts        0\n",
              "2g_restrictions_sale_real_property    0\n",
              "2h_reliability_police                 0\n",
              "2i_business_costs_crime               0\n",
              "2j_gender_adjustment                  0\n",
              "2_property_rights                     0\n",
              "3a_money_growth                       0\n",
              "3b_std_inflation                      0\n",
              "3c_inflation                          0\n",
              "3d_freedom_own_foreign_currency       0\n",
              "3_sound_money                         0\n",
              "4a_tariffs                            0\n",
              "4b_regulatory_trade_barriers          0\n",
              "4c_black_market                       0\n",
              "4d_control_movement_capital_ppl       0\n",
              "4_trade                               0\n",
              "5a_credit_market_reg                  0\n",
              "5b_labor_market_reg                   0\n",
              "5c_business_reg                       0\n",
              "5_regulation                          0\n",
              "dtype: int64"
            ]
          },
          "metadata": {
            "tags": []
          },
          "execution_count": 37
        }
      ]
    },
    {
      "cell_type": "markdown",
      "metadata": {
        "id": "7sd6_sAmIVOZ",
        "colab_type": "text"
      },
      "source": [
        "## Exporting the Cleaned Datasets"
      ]
    },
    {
      "cell_type": "markdown",
      "metadata": {
        "id": "kAyj0Su2qQ4y",
        "colab_type": "text"
      },
      "source": [
        "Finally having cleaned all the relevant datasets the data frames had to be exported in a readable csv format\n",
        "for external use outside the python environment."
      ]
    },
    {
      "cell_type": "code",
      "metadata": {
        "id": "Bx5_xkcLIUco",
        "colab_type": "code",
        "colab": {}
      },
      "source": [
        "le.to_csv('le_clean.csv', index = None, header = True)\n",
        "se.to_csv('se_clean.csv', index = None, header = True)\n",
        "ef.to_csv('ef_clean.csv', index = None, header = True)"
      ],
      "execution_count": 0,
      "outputs": []
    },
    {
      "cell_type": "markdown",
      "metadata": {
        "id": "KUU9UjDmCzSk",
        "colab_type": "text"
      },
      "source": [
        "## Numerical Summaries"
      ]
    },
    {
      "cell_type": "markdown",
      "metadata": {
        "id": "OgCiRee3Ld0b",
        "colab_type": "text"
      },
      "source": [
        "### Understanding through Simple Analysis Measures Relating to Life Expectancy"
      ]
    },
    {
      "cell_type": "code",
      "metadata": {
        "id": "vvjpQmpNC1yR",
        "colab_type": "code",
        "outputId": "157e6c0d-0ba1-4b17-fde6-7b5e60961976",
        "colab": {
          "base_uri": "https://localhost:8080/",
          "height": 85
        }
      },
      "source": [
        "print(le.groupby('Status')[['Life expectancy']].mean())"
      ],
      "execution_count": 0,
      "outputs": [
        {
          "output_type": "stream",
          "text": [
            "            Life expectancy\n",
            "Status                     \n",
            "Developed         78.906579\n",
            "Developing        66.345230\n"
          ],
          "name": "stdout"
        }
      ]
    },
    {
      "cell_type": "code",
      "metadata": {
        "id": "pCUiacpnMKQj",
        "colab_type": "code",
        "outputId": "9a666734-a662-4498-9300-2ff2940228ef",
        "colab": {
          "base_uri": "https://localhost:8080/",
          "height": 2485
        }
      },
      "source": [
        "z = 1\n",
        "while z == 1:\n",
        "  a = input('Say measures if you want to run based on specific measures say countries if you want to base on the number of countries: ')\n",
        "\n",
        "  # Will add country specific filter later\n",
        "\n",
        "\n",
        "  if a == 'countries':\n",
        "    a = input('How many countries?: ')\n",
        "    print(le.groupby(['Country']).mean()[custom_list].head(int(a)))\n",
        "    z -= 1\n",
        "  elif a == 'measures':\n",
        "    custom_list = []\n",
        "    count = 0\n",
        "    for i in column_names:\n",
        "      if count > 2:\n",
        "        custom_list.append(i)\n",
        "      count += 1\n",
        "    b = int(input('How many measures would you like to compare?: '))\n",
        "    measures = []\n",
        "    while b > 0:\n",
        "      print(custom_list)\n",
        "      d = input('Enter measure name (select from above): ')\n",
        "      measures.append(d)\n",
        "      b -= 1\n",
        "    print(le.groupby(['Country']).mean()[measures])\n",
        "    z -= 1\n",
        "  else:\n",
        "    print('Please try again')\n",
        "\n",
        "    \n",
        "# Second drafted filter function\n",
        "\"\"\"\n",
        "z = 1\n",
        "while z == 1:\n",
        "  a = input('Say measures if you want to run based on specific measures say countries if you want to base on a specific country search: ')\n",
        "\n",
        "  # Will add country specific filter later\n",
        "\n",
        "\n",
        "  if a == 'countries':\n",
        "    countries = []\n",
        "    a = 1\n",
        "    #a = int(input('How many countries?: '))\n",
        "    while a > 0:\n",
        "      y = input('Which countries?: ')\n",
        "      #countries.append(y)\n",
        "      a -= 1\n",
        "    print(le.groupby(['Country']).get_group(y).mean()[custom_list].head(int(a)))\n",
        "    z -= 1\n",
        "  elif a == 'measures':\n",
        "    custom_list = []\n",
        "    count = 0\n",
        "    for i in column_names:\n",
        "      if count > 2:\n",
        "        custom_list.append(i)\n",
        "      count += 1\n",
        "    b = int(input('How many measures would you like to compare?: '))\n",
        "    measures = []\n",
        "    while b > 0:\n",
        "      print(custom_list)\n",
        "      d = input('Enter measure name (select from above): ')\n",
        "      measures.append(d)\n",
        "      b -= 1\n",
        "    print(le.groupby('Country').mean()[measures])\n",
        "    z -= 1\n",
        "  else:\n",
        "    print('Please try again')\n",
        "\"\"\""
      ],
      "execution_count": 0,
      "outputs": [
        {
          "output_type": "stream",
          "text": [
            "Say measures if you want to run based on specific measures say countries if you want to base on the number of countries: measures\n",
            "How many measures would you like to compare?: 3\n",
            "['Life expectancy', 'Adult Mortality', 'infant deaths', 'Alcohol', 'percentage expenditure', 'Hepatitis B', 'Measles', 'BMI', 'under-five deaths', 'Polio', 'Total expenditure', 'Diphtheria', 'HIV/AIDS', 'GDP', 'Population', 'thinness 1-19 years', 'thinness 5-9 years', 'Income composition of resources', 'Schooling']\n",
            "Enter measure name (select from above): Life expectancy\n",
            "['Life expectancy', 'Adult Mortality', 'infant deaths', 'Alcohol', 'percentage expenditure', 'Hepatitis B', 'Measles', 'BMI', 'under-five deaths', 'Polio', 'Total expenditure', 'Diphtheria', 'HIV/AIDS', 'GDP', 'Population', 'thinness 1-19 years', 'thinness 5-9 years', 'Income composition of resources', 'Schooling']\n",
            "Enter measure name (select from above): Adult Mortality\n",
            "['Life expectancy', 'Adult Mortality', 'infant deaths', 'Alcohol', 'percentage expenditure', 'Hepatitis B', 'Measles', 'BMI', 'under-five deaths', 'Polio', 'Total expenditure', 'Diphtheria', 'HIV/AIDS', 'GDP', 'Population', 'thinness 1-19 years', 'thinness 5-9 years', 'Income composition of resources', 'Schooling']\n",
            "Enter measure name (select from above): BMI\n",
            "                          Life expectancy  Adult Mortality       BMI\n",
            "Country                                                             \n",
            "Afghanistan                      58.19375         269.0625  15.51875\n",
            "Albania                          75.15625          45.0625  49.06875\n",
            "Algeria                          73.61875         108.1875  48.74375\n",
            "Angola                           49.01875         328.5625  18.01875\n",
            "Argentina                        75.15625         106.0000  54.98125\n",
            "Armenia                          73.40000         117.3750  44.70625\n",
            "Australia                        81.81250          63.1875  55.86250\n",
            "Austria                          81.48125          65.7500  48.28750\n",
            "Azerbaijan                       70.73125         115.1875  43.84375\n",
            "Bangladesh                       69.30000         141.3750  12.87500\n",
            "Belarus                          69.90625         218.7500  54.74375\n",
            "Belgium                          80.68125          70.1875  50.89375\n",
            "Belize                           69.26875         155.5000  37.67500\n",
            "Benin                            57.56875         269.3750  19.61250\n",
            "Bhutan                           66.16250         230.2500  17.58125\n",
            "Bosnia and Herzegovina           75.96875          64.9375  48.96250\n",
            "Botswana                         56.05000         448.1250  32.24375\n",
            "Brazil                           73.38125         150.6875  47.06250\n",
            "Bulgaria                         72.85000         125.5000  54.50000\n",
            "Burkina Faso                     55.64375         252.5000  15.50000\n",
            "Burundi                          55.53750         291.5625  15.31250\n",
            "Cabo Verde                       72.51875         116.1875  24.37500\n",
            "Cambodia                         64.34375         196.3750  15.36250\n",
            "Cameroon                         54.01875         294.8750  23.61875\n",
            "Canada                           81.68750          64.6250  55.86250\n",
            "Central African Republic         48.51250         333.0625  17.08750\n",
            "Chad                             50.38750         227.7500  16.31875\n",
            "Chile                            79.45000          63.6250  55.58750\n",
            "China                            74.26250          73.7500  21.80625\n",
            "Colombia                         73.28750         124.2500  49.54375\n",
            "Comoros                          61.58125         240.9375  18.25625\n",
            "Costa Rica                       78.59375          69.3750  46.72500\n",
            "Croatia                          76.11875          89.0000  52.35625\n",
            "Cyprus                           79.67500          54.1250  53.16250\n",
            "Djibouti                         60.75625         274.6875  26.25000\n",
            "Dominican Republic               72.34375         143.5000  48.14375\n",
            "Ecuador                          74.72500         132.1250  43.31250\n",
            "El Salvador                      71.74375         155.0625  45.32500\n",
            "Equatorial Guinea                55.31250         279.3750  17.85625\n",
            "Eritrea                          60.68750         308.6250  15.15625\n",
            "Estonia                          74.94375         169.6875  56.68125\n",
            "Ethiopia                         59.11250         285.5625  14.80000\n",
            "Fiji                             68.71250         125.0000  50.56250\n",
            "France                           82.21875          73.1250  51.98125\n",
            "Gabon                            62.24375         220.4375  28.81875\n",
            "Georgia                          73.50625         114.9375  47.74375\n",
            "Germany                          81.17500          71.2500  51.99375\n",
            "Ghana                            60.86250         180.0625  21.72500\n",
            "Greece                           81.21875          73.6250  58.68125\n",
            "Guatemala                        71.73125         131.1875  40.44375\n",
            "Guinea                           56.01250         259.8750  17.46875\n",
            "Guinea-Bissau                    55.36875         158.3125  19.43125\n",
            "Guyana                           65.63750         203.9375  36.38125\n",
            "Haiti                            59.86875         168.3125  39.27500\n",
            "Honduras                         72.99375         142.0000  39.74375\n",
            "India                            65.41875         146.5625  14.79375\n",
            "Indonesia                        67.55625         166.5625  19.95625\n",
            "Iraq                             70.35625         136.7500  48.59375\n",
            "Ireland                          80.15000          72.4375  53.68750\n",
            "Israel                           81.30000          59.5000  54.98750\n",
            "Italy                            82.18750          54.1875  56.15000\n",
            "Jamaica                          74.29375         141.2500  45.42500\n",
            "Jordan                           72.98750         114.3125  53.00000\n",
            "Kazakhstan                       66.76250         232.0625  45.15625\n",
            "Kenya                            57.48125         348.5625  15.56250\n",
            "Kiribati                         65.15000         129.4375  69.43125\n",
            "Latvia                           73.73125         161.8125  51.30625\n",
            "Lebanon                          74.20000          65.3125  55.33750\n",
            "Lesotho                          48.78125         550.0625  25.23750\n",
            "Liberia                          57.52500         246.9375  19.98750\n",
            "Lithuania                        72.80625         117.2500  49.23125\n",
            "Luxembourg                       80.78125          67.5625  47.82500\n",
            "Madagascar                       62.74375         228.8125  14.76875\n",
            "Malawi                           49.89375         424.4375  16.78125\n",
            "Malaysia                         73.75625         118.5625  29.16875\n",
            "Maldives                         75.53750          83.1875  19.29375\n",
            "Mali                             54.93750         202.1250  17.21250\n",
            "Malta                            80.36250          60.7500  66.18125\n",
            "Mauritania                       62.80000         159.9375  22.47500\n",
            "Mauritius                        72.71250         163.5625  25.98125\n",
            "Mexico                           75.71875         111.0625  51.41875\n",
            "Mongolia                         65.88750         222.1250  39.79375\n",
            "Montenegro                       74.50000          92.7500  50.48750\n",
            "Morocco                          72.15625          95.1875  48.61875\n",
            "Mozambique                       53.39375         226.2500  16.14375\n",
            "Myanmar                          64.20000         154.3125  17.12500\n",
            "Namibia                          60.40000         313.1875  28.22500\n",
            "Nepal                            66.48125         147.2500  15.17500\n",
            "Netherlands                      81.13125          61.6250  53.96875\n",
            "Nicaragua                        73.45000         162.3750  42.68125\n",
            "Niger                            56.98125         232.4375  16.36250\n",
            "Nigeria                          51.35625         248.5000  19.75000\n",
            "Pakistan                         64.50000         154.0000  18.31250\n",
            "Panama                           76.48750         115.8750  49.31250\n",
            "Papua New Guinea                 61.68125         266.5625  40.78750\n",
            "Paraguay                         73.11250         139.9375  39.52500\n",
            "Peru                             73.66250         122.4375  44.86875\n",
            "Philippines                      67.57500         217.9375  19.18750\n",
            "Poland                           75.65000         107.5625  53.73125\n",
            "Portugal                         79.99375          58.8750  43.63125\n",
            "Romania                          74.05000         156.0625  52.25000\n",
            "Russian Federation               67.76250         224.5625  53.31875\n",
            "Rwanda                           59.31250         246.8125  14.75000\n",
            "Samoa                            73.61875         133.5625  62.90625\n",
            "Sao Tome and Principe            65.16250         164.9375  20.85000\n",
            "Senegal                          62.56875         174.1875  18.44375\n",
            "Serbia                           73.95625         130.4375  52.13750\n",
            "Seychelles                       72.37500         161.1875  28.40625\n",
            "Sierra Leone                     46.11250         357.8125  18.30625\n",
            "Solomon Islands                  67.71250         140.0625  39.17500\n",
            "South Africa                     57.50000         412.7500  38.15000\n",
            "Spain                            82.06875          63.6250  58.66875\n",
            "Sri Lanka                        73.40000         144.3750  17.27500\n",
            "Suriname                         70.08125         166.0000  50.15625\n",
            "Swaziland                        51.32500         339.0000  25.50000\n",
            "Sweden                           82.51875          59.1875  56.25000\n",
            "Syrian Arab Republic             70.85000         139.6250  47.31250\n",
            "Tajikistan                       66.65625         177.5625  33.11250\n",
            "Thailand                         73.08125         160.3750  21.59375\n",
            "Timor-Leste                      64.75625         170.3750  14.55000\n",
            "Togo                             56.66250         311.3125  17.99375\n",
            "Tonga                            72.53125         129.6250  62.94375\n",
            "Trinidad and Tobago              71.06875         163.3750  37.73125\n",
            "Tunisia                          74.35625          18.7500  48.25625\n",
            "Turkey                           73.91250          98.3750  56.41250\n",
            "Turkmenistan                     64.61875         214.8125  38.11875\n",
            "Uganda                           55.70625         300.1875  15.52500\n",
            "Ukraine                          69.93750         205.7500  50.89375\n",
            "Uruguay                          76.07500         119.9375  52.92500\n",
            "Uzbekistan                       68.03125         184.8125  34.80625\n",
            "Vanuatu                          71.38750         137.8750  44.25625\n",
            "Zambia                           53.90625         354.3125  17.45000\n",
            "Zimbabwe                         50.48750         462.3750  25.13750\n"
          ],
          "name": "stdout"
        },
        {
          "output_type": "execute_result",
          "data": {
            "text/plain": [
              "\"\\nz = 1\\nwhile z == 1:\\n  a = input('Say measures if you want to run based on specific measures say countries if you want to base on a specific country search: ')\\n\\n  # Will add country specific filter later\\n\\n\\n  if a == 'countries':\\n    countries = []\\n    a = 1\\n    #a = int(input('How many countries?: '))\\n    while a > 0:\\n      y = input('Which countries?: ')\\n      #countries.append(y)\\n      a -= 1\\n    print(le.groupby(['Country']).get_group(y).mean()[custom_list].head(int(a)))\\n    z -= 1\\n  elif a == 'measures':\\n    custom_list = []\\n    count = 0\\n    for i in column_names:\\n      if count > 2:\\n        custom_list.append(i)\\n      count += 1\\n    b = int(input('How many measures would you like to compare?: '))\\n    measures = []\\n    while b > 0:\\n      print(custom_list)\\n      d = input('Enter measure name (select from above): ')\\n      measures.append(d)\\n      b -= 1\\n    print(le.groupby('Country').mean()[measures])\\n    z -= 1\\n  else:\\n    print('Please try again')\\n\""
            ]
          },
          "metadata": {
            "tags": []
          },
          "execution_count": 42
        }
      ]
    },
    {
      "cell_type": "code",
      "metadata": {
        "id": "C201NY3pM_Cn",
        "colab_type": "code",
        "outputId": "444bef3e-636c-483a-b53f-32fef821080d",
        "colab": {
          "base_uri": "https://localhost:8080/",
          "height": 462
        }
      },
      "source": [
        "z = 1\n",
        "while z == 1:\n",
        "  a = input('If you would like to compare against measures with a 5 numerical summary, type measures: ')\n",
        "  if a == 'measures':\n",
        "    custom_list = []\n",
        "    count = 0\n",
        "    for i in column_names:\n",
        "      if count > 2:\n",
        "        custom_list.append(i)\n",
        "      count += 1\n",
        "    b = int(input('How many measures would you like to compare?: '))\n",
        "    measures = []\n",
        "    while b > 0:\n",
        "      print(custom_list)\n",
        "      d = input('Enter measure name (select from above): ')\n",
        "      measures.append(d)\n",
        "      b -= 1\n",
        "    print(le.groupby('Year').describe()[measures])\n",
        "    z -= 1\n",
        "  else:\n",
        "    print('What you typed does not make sense, displaying default output.')\n",
        "    print(le.groupby('Year').describe())"
      ],
      "execution_count": 0,
      "outputs": [
        {
          "output_type": "stream",
          "text": [
            "If you would like to compare against measures with a 5 numerical summary, type measures: measures\n",
            "How many measures would you like to compare?: 2\n",
            "['Life expectancy', 'Adult Mortality', 'infant deaths', 'Alcohol', 'percentage expenditure', 'Hepatitis B', 'Measles', 'BMI', 'under-five deaths', 'Polio', 'Total expenditure', 'Diphtheria', 'HIV/AIDS', 'GDP', 'Population', 'thinness 1-19 years', 'thinness 5-9 years', 'Income composition of resources', 'Schooling']\n",
            "Enter measure name (select from above): Life expectancy\n",
            "['Life expectancy', 'Adult Mortality', 'infant deaths', 'Alcohol', 'percentage expenditure', 'Hepatitis B', 'Measles', 'BMI', 'under-five deaths', 'Polio', 'Total expenditure', 'Diphtheria', 'HIV/AIDS', 'GDP', 'Population', 'thinness 1-19 years', 'thinness 5-9 years', 'Income composition of resources', 'Schooling']\n",
            "Enter measure name (select from above): Adult Mortality\n",
            "     Life expectancy                                                     Adult Mortality                                                        \n",
            "               count       mean        std   min   25%   50%   75%   max           count        mean         std  min   25%    50%    75%    max\n",
            "Year                                                                                                                                            \n",
            "2000           133.0  65.469925  10.460090  39.0  57.7  68.3  72.9  79.6           133.0  191.240602  148.987144  2.0  84.0  167.0  247.0  665.0\n",
            "2001           133.0  65.907519  10.323052  41.0  58.1  68.4  73.3  79.9           133.0  186.714286  150.740976  1.0  75.0  165.0  251.0  686.0\n",
            "2002           133.0  66.097744  10.165781  44.0  58.5  69.2  73.5  80.0           133.0  182.616541  138.783280  3.0  74.0  163.0  256.0  699.0\n",
            "2003           133.0  66.153383  10.321877  41.5  59.0  68.4  73.5  83.0           133.0  172.578947  144.272165  1.0  64.0  146.0  231.0  715.0\n",
            "2004           133.0  66.435338  10.255096  42.3  59.1  68.7  73.2  89.0           133.0  198.781955  151.681651  7.0  86.0  165.0  269.0  723.0\n",
            "2005           133.0  67.136090   9.984969  43.3  60.0  69.0  73.9  88.0           133.0  172.511278  142.530678  2.0  66.0  138.0  238.0  717.0\n",
            "2006           133.0  67.636090   9.955045  44.3  61.1  69.4  74.2  88.0           133.0  180.751880  137.001571  1.0  78.0  153.0  249.0  654.0\n",
            "2007           133.0  68.076692   9.814128  45.3  61.2  69.8  74.4  89.0           133.0  169.368421  130.591572  2.0  67.0  146.0  241.0  633.0\n",
            "2008           133.0  68.436842   9.314777  46.2  61.7  70.0  74.5  89.0           133.0  183.857143  125.179456  1.0  97.0  161.0  259.0  632.0\n",
            "2009           133.0  68.930075   8.945466  47.1  62.4  71.4  75.0  86.0           133.0  174.203008  119.532851  2.0  85.0  157.0  235.0  587.0\n",
            "2010           133.0  69.051880   9.397748  36.3  62.3  72.4  75.0  88.0           133.0  172.624060  127.254910  2.0  76.0  147.0  248.0  682.0\n",
            "2011           133.0  69.717293   8.981256  48.9  62.6  72.0  75.3  88.0           133.0  165.518797  112.572711  6.0  74.0  144.0  241.0  464.0\n",
            "2012           133.0  69.977444   8.534330  49.7  63.4  71.9  75.6  88.0           133.0  157.887218  109.794757  2.0  71.0  143.0  232.0  513.0\n",
            "2013           133.0  70.190977   8.305114  49.9  64.6  71.2  75.3  87.0           133.0  156.729323  109.066641  6.0  68.0  142.0  228.0  518.0\n",
            "2014           133.0  70.427820   8.572448  48.1  64.4  71.7  75.8  89.0           133.0  162.135338  110.256023  2.0  76.0  147.0  225.0  522.0\n",
            "2015           133.0  70.590226   7.969876  51.0  65.0  72.0  75.8  85.0           133.0  161.285714   99.874662  1.0  82.0  146.0  222.0  484.0\n"
          ],
          "name": "stdout"
        }
      ]
    },
    {
      "cell_type": "code",
      "metadata": {
        "id": "9Iortnkij9iA",
        "colab_type": "code",
        "outputId": "66b7e475-67e8-4333-e696-b848a443aeb5",
        "colab": {
          "base_uri": "https://localhost:8080/",
          "height": 377
        }
      },
      "source": [
        "custom_list = []\n",
        "count = 0\n",
        "for i in column_names:\n",
        "  if count > 2:\n",
        "    custom_list.append(i)\n",
        "  count += 1\n",
        "\n",
        "# Finding the correlation values across a selection of variables\n",
        "dfcomp = le[custom_list]\n",
        "retscomp = round(dfcomp.pct_change(), 4)\n",
        "corr = retscomp.corr()\n",
        "print(corr)"
      ],
      "execution_count": 0,
      "outputs": [
        {
          "output_type": "stream",
          "text": [
            "                                 Life expectancy  Adult Mortality  infant deaths   Alcohol  percentage expenditure  Hepatitis B   Measles       BMI  under-five deaths     Polio  Total expenditure  Diphtheria  HIV/AIDS       GDP  Population  thinness 1-19 years  thinness 5-9 years  Income composition of resources  Schooling\n",
            "Life expectancy                         1.000000        -0.012484      -0.041919  0.019859               -0.005680     0.021133 -0.029310  0.164715          -0.067685  0.160367           0.000858    0.103877 -0.207255  0.162000   -0.021400            -0.084341           -0.084203                         0.583187   0.624784\n",
            "Adult Mortality                        -0.012484         1.000000      -0.001601  0.027601               -0.000178     0.066909 -0.012847 -0.022378          -0.003478 -0.027511          -0.019843    0.028558  0.038077 -0.006523   -0.012253             0.011950            0.015735                        -0.024371  -0.010813\n",
            "infant deaths                          -0.041919        -0.001601       1.000000 -0.010858               -0.009155    -0.014885 -0.003018 -0.029463           0.981451 -0.019037          -0.013770   -0.004148  0.049826 -0.008888    0.008160             0.246687            0.232919                        -0.021059  -0.008447\n",
            "Alcohol                                 0.019859         0.027601      -0.010858  1.000000                0.025081     0.020502 -0.001671  0.115778          -0.010307 -0.017436           0.046359    0.010642 -0.004673  0.124628   -0.011975            -0.012281           -0.017061                         0.068899   0.070527\n",
            "percentage expenditure                 -0.005680        -0.000178      -0.009155  0.025081                1.000000    -0.006065 -0.002979 -0.008950          -0.009765 -0.008013          -0.001231   -0.007531 -0.008706  0.663630    0.054382            -0.004679           -0.004705                        -0.000332  -0.004908\n",
            "Hepatitis B                             0.021133         0.066909      -0.014885  0.020502               -0.006065     1.000000 -0.015059  0.029706          -0.015850  0.141979           0.033319    0.303310 -0.014794 -0.004897   -0.007925             0.012132            0.013793                         0.007788   0.006937\n",
            "Measles                                -0.029310        -0.012847      -0.003018 -0.001671               -0.002979    -0.015059  1.000000  0.012015          -0.003081 -0.012985          -0.019135   -0.011588  0.003908 -0.004457   -0.003648            -0.007668            0.003997                        -0.022117  -0.019227\n",
            "BMI                                     0.164715        -0.022378      -0.029463  0.115778               -0.008950     0.029706  0.012015  1.000000          -0.031805  0.013998           0.021866   -0.006226 -0.031245  0.136853   -0.003659            -0.037571           -0.042996                         0.207487   0.178600\n",
            "under-five deaths                      -0.067685        -0.003478       0.981451 -0.010307               -0.009765    -0.015850 -0.003081 -0.031805           1.000000 -0.019706          -0.011722   -0.002610  0.080525 -0.009984    0.011050             0.259964            0.244958                        -0.041709  -0.023685\n",
            "Polio                                   0.160367        -0.027511      -0.019037 -0.017436               -0.008013     0.141979 -0.012985  0.013998          -0.019706  1.000000           0.022353    0.280225 -0.027338  0.001634   -0.015689            -0.009911           -0.008489                         0.078404   0.179112\n",
            "Total expenditure                       0.000858        -0.019843      -0.013770  0.046359               -0.001231     0.033319 -0.019135  0.021866          -0.011722  0.022353           1.000000    0.036526  0.058057  0.030757   -0.020972            -0.017429           -0.020304                         0.044982   0.041814\n",
            "Diphtheria                              0.103877         0.028558      -0.004148  0.010642               -0.007531     0.303310 -0.011588 -0.006226          -0.002610  0.280225           0.036526    1.000000 -0.028992  0.009523    0.009029             0.001253           -0.007726                         0.075112   0.168962\n",
            "HIV/AIDS                               -0.207255         0.038077       0.049826 -0.004673               -0.008706    -0.014794  0.003908 -0.031245           0.080525 -0.027338           0.058057   -0.028992  1.000000 -0.012073    0.034700             0.138847            0.135816                        -0.112358  -0.051456\n",
            "GDP                                     0.162000        -0.006523      -0.008888  0.124628                0.663630    -0.004897 -0.004457  0.136853          -0.009984  0.001634           0.030757    0.009523 -0.012073  1.000000    0.029101             0.011617            0.009729                         0.162214   0.160553\n",
            "Population                             -0.021400        -0.012253       0.008160 -0.011975                0.054382    -0.007925 -0.003648 -0.003659           0.011050 -0.015689          -0.020972    0.009029  0.034700  0.029101    1.000000             0.001732            0.002202                        -0.005794  -0.004151\n",
            "thinness 1-19 years                    -0.084341         0.011950       0.246687 -0.012281               -0.004679     0.012132 -0.007668 -0.037571           0.259964 -0.009911          -0.017429    0.001253  0.138847  0.011617    0.001732             1.000000            0.942874                        -0.053329  -0.052823\n",
            "thinness 5-9 years                     -0.084203         0.015735       0.232919 -0.017061               -0.004705     0.013793  0.003997 -0.042996           0.244958 -0.008489          -0.020304   -0.007726  0.135816  0.009729    0.002202             0.942874            1.000000                        -0.052334  -0.051914\n",
            "Income composition of resources         0.583187        -0.024371      -0.021059  0.068899               -0.000332     0.007788 -0.022117  0.207487          -0.041709  0.078404           0.044982    0.075112 -0.112358  0.162214   -0.005794            -0.053329           -0.052334                         1.000000   0.712271\n",
            "Schooling                               0.624784        -0.010813      -0.008447  0.070527               -0.004908     0.006937 -0.019227  0.178600          -0.023685  0.179112           0.041814    0.168962 -0.051456  0.160553   -0.004151            -0.052823           -0.051914                         0.712271   1.000000\n"
          ],
          "name": "stdout"
        }
      ]
    },
    {
      "cell_type": "markdown",
      "metadata": {
        "id": "hv0K2RFajl7N",
        "colab_type": "text"
      },
      "source": [
        "### Understanding through Simple Analysis Measures Relating to Socioeconomic Status"
      ]
    },
    {
      "cell_type": "code",
      "metadata": {
        "id": "DycHtNyPjk3T",
        "colab_type": "code",
        "outputId": "e1f3c38a-f8ea-4774-8609-50ec7455a7bf",
        "colab": {
          "base_uri": "https://localhost:8080/",
          "height": 1445
        }
      },
      "source": [
        "z = 1\n",
        "while z == 1:\n",
        "  a = input('Say measures if you want to run based on specific measures say countries if you want to base on the number of countries: ')\n",
        "\n",
        "  # Will add country specific filter later\n",
        "\n",
        "\n",
        "  if a == 'countries':\n",
        "    a = input('How many countries?: ')\n",
        "    print(se.groupby(['country']).mean()[custom_list_se].head(int(a)).sort())\n",
        "    z -= 1\n",
        "  elif a == 'measures':\n",
        "    custom_list_se = []\n",
        "    count = 0\n",
        "    for i in column_names_se:\n",
        "      if count > 3:\n",
        "        custom_list_se.append(i)\n",
        "      count += 1\n",
        "    b = int(input('How many measures would you like to compare?: '))\n",
        "    measures = []\n",
        "    while b > 0:\n",
        "      print(custom_list_se)\n",
        "      d = input('Enter measure name (select from above): ')\n",
        "      measures.append(d)\n",
        "      b -= 1\n",
        "    print(se.groupby(['country']).mean()[measures])\n",
        "    z -= 1\n",
        "  else:\n",
        "    print('Please try again')"
      ],
      "execution_count": 0,
      "outputs": [
        {
          "output_type": "stream",
          "text": [
            "Say measures if you want to run based on specific measures say countries if you want to base on the number of countries: measures\n",
            "How many measures would you like to compare?: 3\n",
            "['SES', 'gdppc', 'yrseduc', 'popshare']\n",
            "Enter measure name (select from above): SES\n",
            "['SES', 'gdppc', 'yrseduc', 'popshare']\n",
            "Enter measure name (select from above): gdppc\n",
            "['SES', 'gdppc', 'yrseduc', 'popshare']\n",
            "Enter measure name (select from above): yrseduc\n",
            "                          SES         gdppc   yrseduc\n",
            "country                                              \n",
            "Algeria             47.384224   3562.255479  2.160564\n",
            "Angola              23.434315   1766.981699  0.631429\n",
            "Argentina           79.777695   6627.260500  4.884279\n",
            "Australia           93.911176  12958.913929  8.654336\n",
            "Austria             84.350974  11973.879643  6.141579\n",
            "Belgium             88.482692  12451.734571  6.938171\n",
            "Benin               20.842572    975.214634  0.982836\n",
            "Brazil              57.904678   3890.942857  2.847657\n",
            "Bulgaria            74.700270   4120.145521  5.546557\n",
            "Cameroon            35.813353   1142.735220  1.914086\n",
            "Canada              93.334512  12779.423357  8.597807\n",
            "Chile               77.376774   5721.680729  4.769779\n",
            "Costa Rica          66.913588   3717.246329  3.840914\n",
            "Cuba                67.536861   4222.216679  4.311757\n",
            "Côte d'Ivoire       24.155861   1403.186806  1.149657\n",
            "Denmark             89.719676  13541.049929  7.406493\n",
            "Dominican Republic  58.936073   2623.941314  2.884164\n",
            "Egypt               39.110254   2485.607959  1.748729\n",
            "El Salvador         54.135769   2307.981093  2.734607\n",
            "Ethiopia            11.461390    642.439788  0.520000\n",
            "Finland             77.041214  10749.420214  4.306900\n",
            "France              86.853151  11585.327786  6.937557\n",
            "Germany             87.743238  11995.954000  7.111379\n",
            "Ghana               47.650028   1265.825002  2.607157\n",
            "Greece              77.511865   7535.905543  5.255307\n",
            "Guatemala           50.951989   2706.432550  1.817879\n",
            "Guyana              70.031281   2779.824700  4.746050\n",
            "Honduras            52.272983   1740.467150  2.729557\n",
            "Hungary             80.561823   5516.494000  6.161579\n",
            "India               25.469778   1167.847230  1.460843\n",
            "Indonesia           48.941803   2111.672471  2.165314\n",
            "Iran                46.152367   4225.478839  2.050957\n",
            "Iraq                37.553719   4095.847153  1.395329\n",
            "Ireland             85.734347  10636.480479  7.080386\n",
            "Italy               79.980416  10895.705857  4.796143\n",
            "Jamaica             62.947732   2823.127119  4.687093\n",
            "Japan               81.176579   9992.633714  6.626307\n",
            "Kenya               41.350984   1070.726370  2.540071\n",
            "Madagascar          32.492982    959.095363  1.560714\n",
            "Malawi              27.767039    646.889288  1.739614\n",
            "Malaysia            64.944422   4538.370167  3.339543\n",
            "Mali                13.202980    819.030770  0.454143\n",
            "Mexico              69.676667   4938.212929  3.492186\n",
            "Morocco             32.522582   1949.288514  1.219921\n",
            "Mozambique          19.546390    845.835715  0.576986\n",
            "Myanmar             22.814664    914.878238  1.437836\n",
            "Netherlands         90.039902  13466.255000  7.520850\n",
            "New Zealand         93.429998  11445.204286  8.878150\n",
            "Nicaragua           52.593267   1868.218979  2.493193\n",
            "Niger               14.748300    720.661255  0.440029\n",
            "Nigeria             33.561719   1395.385627  1.461429\n",
            "Norway              88.848490  15613.873929  7.802214\n",
            "Panama              68.370038   3925.656329  4.430843\n",
            "Paraguay            62.271705   2525.780764  3.450514\n",
            "Peru                65.537295   3068.860689  3.696629\n",
            "Philippines         56.653940   1969.829607  3.444664\n",
            "Portugal            68.730384   7213.134214  3.500500\n",
            "Senegal             28.691312   1137.081799  1.543829\n",
            "Sierra Leone        21.151354    863.569913  1.002629\n",
            "South Africa        70.504288   4065.407107  3.947093\n",
            "Spain               78.913246   8631.668714  5.366514\n",
            "Sudan               18.772760   1104.633384  0.847850\n",
            "Sweden              89.233766  12513.575929  7.731357\n",
            "Switzerland         94.761597  17255.792714  8.304664\n",
            "Syria               57.094757   3417.049074  2.191900\n",
            "Thailand            45.400943   2940.687602  2.473064\n",
            "Tunisia             39.379230   2638.367117  1.807264\n",
            "Turkey              50.783842   4310.488531  2.149007\n",
            "Uganda              32.059656    774.815221  1.738886\n",
            "United Kingdom      88.598281  12045.910786  6.954521\n",
            "United States       96.887154  15808.786571  9.304886\n",
            "Uruguay             77.842987   5812.565186  4.614093\n",
            "Venezuela           67.425180   6793.513000  3.047521\n",
            "Zambia              39.405845   1131.670749  2.478036\n"
          ],
          "name": "stdout"
        }
      ]
    },
    {
      "cell_type": "code",
      "metadata": {
        "id": "cUfsqwdbr4K6",
        "colab_type": "code",
        "outputId": "ef591a27-6542-4a67-b0d2-9c6ad283854d",
        "colab": {
          "base_uri": "https://localhost:8080/",
          "height": 408
        }
      },
      "source": [
        "z = 1\n",
        "while z == 1:\n",
        "  a = input('If you would like to compare against measures with a 5 numerical summary, type measures: ')\n",
        "  if a == 'measures':\n",
        "    custom_list_se = []\n",
        "    count = 0\n",
        "    for i in column_names_se:\n",
        "      if count > 3:\n",
        "        custom_list_se.append(i)\n",
        "      count += 1\n",
        "    b = int(input('How many measures would you like to compare?: '))\n",
        "    measures = []\n",
        "    while b > 0:\n",
        "      print(custom_list_se)\n",
        "      d = input('Enter measure name (select from above): ')\n",
        "      measures.append(d)\n",
        "      b -= 1\n",
        "    print(se.groupby('year').describe()[measures])\n",
        "    z -= 1\n",
        "  else:\n",
        "    print('What you typed does not make sense, displaying default output.')\n",
        "    print(se.groupby('year').describe())"
      ],
      "execution_count": 0,
      "outputs": [
        {
          "output_type": "stream",
          "text": [
            "If you would like to compare against measures with a 5 numerical summary, type measures: measures\n",
            "How many measures would you like to compare?: 2\n",
            "['SES', 'gdppc', 'yrseduc', 'popshare']\n",
            "Enter measure name (select from above): gdppc\n",
            "['SES', 'gdppc', 'yrseduc', 'popshare']\n",
            "Enter measure name (select from above): yrseduc\n",
            "     gdppc                                                                                           yrseduc                                                                   \n",
            "     count          mean           std        min          25%           50%          75%        max   count      mean       std     min       25%      50%        75%      max\n",
            "year                                                                                                                                                                           \n",
            "1880  74.0   1128.588574    877.259739  518.53491   547.387027    693.569765   1519.25000   4285.000    74.0  1.613243  1.808741  0.0400  0.270000  0.93500   1.935000   6.5900\n",
            "1890  74.0   1258.559381    971.718541  567.33331   587.517440    747.806180   1656.25000   4458.000    74.0  1.840811  1.998283  0.0400  0.317500  1.01500   2.335000   6.9100\n",
            "1900  74.0   1407.747778   1091.597078  585.93024   617.139543    808.100585   1785.75000   4492.000    74.0  2.059459  2.175280  0.0400  0.420000  1.10500   2.742500   7.3000\n",
            "1910  74.0   1640.272121   1320.801351  598.79999   645.769240    978.000000   2139.50000   5316.000    74.0  2.280270  2.350614  0.0400  0.552500  1.34000   3.307500   7.6200\n",
            "1920  74.0   1719.426769   1287.308139  635.00000   715.789990   1227.500000   2353.25000   5641.000    74.0  2.509865  2.504410  0.0400  0.607500  1.51500   3.702500   8.0400\n",
            "1930  74.0   2103.580100   1591.472461  726.00000   811.380022   1534.000000   2887.50000   6246.000    74.0  2.737973  2.599112  0.0400  0.675000  1.74000   4.030000   8.3900\n",
            "1940  74.0   2293.196611   1765.898169  682.66669   815.875000   1536.702700   3232.00000   7010.000    74.0  3.024459  2.704122  0.0400  0.840000  1.92000   4.710000   8.6900\n",
            "1950  74.0   2644.027027   2353.329905  324.00000  1043.750000   1661.500000   3628.00000   9561.000    74.0  3.331216  2.789209  0.0800  1.037500  2.46000   5.185000   9.3500\n",
            "1960  74.0   3457.081081   3030.730916  394.00000  1253.750000   2291.000000   4790.50000  12457.000    74.0  3.519570  2.712718  0.1100  1.084250  2.97965   5.196900  10.0201\n",
            "1970  74.0   4803.094595   4258.232070  447.00000  1465.250000   3275.500000   7056.25000  16904.000    74.0  4.218282  2.869720  0.2300  1.620375  3.85315   6.077400  11.2098\n",
            "1980  74.0   6053.310811   5345.134874  572.00000  1446.250000   4013.500000   9145.00000  18779.000    74.0  4.707381  2.965289  0.4468  2.108575  4.59365   6.646875  11.9239\n",
            "1990  74.0  12512.126997  12226.057481  375.01495  3022.542000   7595.367200  21759.26850  47768.352    74.0  6.119427  2.889738  0.9010  4.270425  6.04275   8.208975  12.2308\n",
            "2000  74.0  15326.942959  15102.483446  555.55988  3102.005425   9472.929200  27711.34625  58066.586    74.0  7.029642  2.903434  1.0500  4.772200  7.08840   9.081950  12.7056\n",
            "2010  74.0  17791.514733  16131.537916  820.65167  4353.750375  12786.223000  31322.67525  62268.012    74.0  7.902723  2.897683  1.7548  5.488725  8.41215  10.036000  13.0971\n"
          ],
          "name": "stdout"
        }
      ]
    },
    {
      "cell_type": "code",
      "metadata": {
        "id": "FKdutoU6sayI",
        "colab_type": "code",
        "outputId": "754542cf-93aa-48d2-8fab-fcb14aaaa0b1",
        "colab": {
          "base_uri": "https://localhost:8080/",
          "height": 102
        }
      },
      "source": [
        "custom_list_se = []\n",
        "count = 0\n",
        "for i in column_names_se:\n",
        "  if count > 3:\n",
        "    custom_list_se.append(i)\n",
        "  count += 1\n",
        "\n",
        "# Finding the correlation values across a selection of variables\n",
        "dfcomp = se[custom_list_se]\n",
        "retscomp = round(dfcomp.pct_change(), 4)\n",
        "corr = retscomp.corr()\n",
        "print(corr)"
      ],
      "execution_count": 0,
      "outputs": [
        {
          "output_type": "stream",
          "text": [
            "               SES     gdppc   yrseduc  popshare\n",
            "SES       1.000000  0.000900 -0.011925 -0.005158\n",
            "gdppc     0.000900  1.000000  0.511157  0.055918\n",
            "yrseduc  -0.011925  0.511157  1.000000  0.047354\n",
            "popshare -0.005158  0.055918  0.047354  1.000000\n"
          ],
          "name": "stdout"
        }
      ]
    },
    {
      "cell_type": "markdown",
      "metadata": {
        "id": "qZsjN-ydtVqE",
        "colab_type": "text"
      },
      "source": [
        "### Understanding through Simple Analysis Measures Relating to Economic Freedom"
      ]
    },
    {
      "cell_type": "code",
      "metadata": {
        "id": "l2rAAq46tUYN",
        "colab_type": "code",
        "outputId": "6450d996-ab64-4e14-d4bf-b35f79db6f2a",
        "colab": {
          "base_uri": "https://localhost:8080/",
          "height": 2383
        }
      },
      "source": [
        "z = 1\n",
        "while z == 1:\n",
        "  a = input('Say measures if you want to run based on specific measures say countries if you want to base on the number of countries: ')\n",
        "\n",
        "  # Will add country specific filter later\n",
        "\n",
        "\n",
        "  if a == 'countries':\n",
        "    a = input('How many countries?: ')\n",
        "    print(ef.groupby(['countries']).mean()[custom_list_ef].head(int(a)))\n",
        "    z -= 1\n",
        "  elif a == 'measures':\n",
        "    custom_list_ef = []\n",
        "    count = 0\n",
        "    for i in column_names_ef:\n",
        "      if count > 5:\n",
        "        custom_list_ef.append(i)\n",
        "      count += 1\n",
        "    b = int(input('How many measures would you like to compare?: '))\n",
        "    measures = []\n",
        "    while b > 0:\n",
        "      print(custom_list_ef)\n",
        "      d = input('Enter measure name (select from above): ')\n",
        "      measures.append(d)\n",
        "      b -= 1\n",
        "    print(ef.groupby(['countries']).mean()[measures])\n",
        "    z -= 1\n",
        "  else:\n",
        "    print('Please try again')"
      ],
      "execution_count": 0,
      "outputs": [
        {
          "output_type": "stream",
          "text": [
            "Say measures if you want to run based on specific measures say countries if you want to base on the number of countries: measures\n",
            "How many measures would you like to compare?: 3\n",
            "['1a_government_consumption', '1b_transfers', '1c_gov_enterprises', '1d_top_marg_tax_rate', '1_size_government', '2a_judicial_independence', '2b_impartial_courts', '2c_protection_property_rights', '2d_military_interference', '2e_integrity_legal_system', '2f_legal_enforcement_contracts', '2g_restrictions_sale_real_property', '2h_reliability_police', '2i_business_costs_crime', '2j_gender_adjustment', '2_property_rights', '3a_money_growth', '3b_std_inflation', '3c_inflation', '3d_freedom_own_foreign_currency', '3_sound_money', '4a_tariffs', '4b_regulatory_trade_barriers', '4c_black_market', '4d_control_movement_capital_ppl', '4_trade', '5a_credit_market_reg', '5b_labor_market_reg', '5c_business_reg', '5_regulation']\n",
            "Enter measure name (select from above): 1_size_government\n",
            "['1a_government_consumption', '1b_transfers', '1c_gov_enterprises', '1d_top_marg_tax_rate', '1_size_government', '2a_judicial_independence', '2b_impartial_courts', '2c_protection_property_rights', '2d_military_interference', '2e_integrity_legal_system', '2f_legal_enforcement_contracts', '2g_restrictions_sale_real_property', '2h_reliability_police', '2i_business_costs_crime', '2j_gender_adjustment', '2_property_rights', '3a_money_growth', '3b_std_inflation', '3c_inflation', '3d_freedom_own_foreign_currency', '3_sound_money', '4a_tariffs', '4b_regulatory_trade_barriers', '4c_black_market', '4d_control_movement_capital_ppl', '4_trade', '5a_credit_market_reg', '5b_labor_market_reg', '5c_business_reg', '5_regulation']\n",
            "Enter measure name (select from above): 2a_judicial_independence\n",
            "['1a_government_consumption', '1b_transfers', '1c_gov_enterprises', '1d_top_marg_tax_rate', '1_size_government', '2a_judicial_independence', '2b_impartial_courts', '2c_protection_property_rights', '2d_military_interference', '2e_integrity_legal_system', '2f_legal_enforcement_contracts', '2g_restrictions_sale_real_property', '2h_reliability_police', '2i_business_costs_crime', '2j_gender_adjustment', '2_property_rights', '3a_money_growth', '3b_std_inflation', '3c_inflation', '3d_freedom_own_foreign_currency', '3_sound_money', '4a_tariffs', '4b_regulatory_trade_barriers', '4c_black_market', '4d_control_movement_capital_ppl', '4_trade', '5a_credit_market_reg', '5b_labor_market_reg', '5c_business_reg', '5_regulation']\n",
            "Enter measure name (select from above): 4b_regulatory_trade_barriers\n",
            "                   1_size_government  2a_judicial_independence  4b_regulatory_trade_barriers\n",
            "countries                                                                                   \n",
            "Albania                     7.751388                  2.712664                      6.559399\n",
            "Algeria                     4.358645                  3.519772                      5.649563\n",
            "Angola                      5.043076                  2.407720                      3.458645\n",
            "Argentina                   6.449589                  2.329104                      5.532170\n",
            "Armenia                     7.927462                  2.884599                      6.409208\n",
            "Australia                   6.111176                  8.760258                      8.043035\n",
            "Austria                     4.687549                  7.855462                      8.350607\n",
            "Azerbaijan                  4.966952                  3.882030                      4.667444\n",
            "Bahrain                     6.639570                  6.055242                      7.852089\n",
            "Bangladesh                  7.983630                  3.111533                      5.275676\n",
            "Barbados                    5.795428                  6.790882                      5.916488\n",
            "Belgium                     4.158546                  7.224045                      8.329220\n",
            "Benin                       5.881891                  3.980433                      5.313175\n",
            "Bolivia                     6.524004                  2.235073                      5.208483\n",
            "Botswana                    5.172455                  7.064708                      6.329946\n",
            "Brazil                      6.083130                  4.540710                      5.965477\n",
            "Bulgaria                    6.119853                  3.053257                      6.448015\n",
            "Burkina Faso                5.179248                  2.496714                      4.602731\n",
            "Burundi                     5.089417                  1.362965                      3.135832\n",
            "Cameroon                    6.698171                  2.716719                      4.862462\n",
            "Canada                      5.966853                  8.577170                      7.790236\n",
            "Central Afr. Rep.           5.714010                  5.228082                      1.904751\n",
            "Chad                        6.821722                  1.823290                      2.503384\n",
            "Chile                       7.028850                  6.307045                      7.827048\n",
            "China                       4.419976                  4.664185                      6.240342\n",
            "Colombia                    6.719349                  3.763500                      5.846358\n",
            "Congo, Dem. R.              6.273104                  2.351897                      2.191198\n",
            "Costa Rica                  7.402987                  6.615573                      6.329162\n",
            "Cote d'Ivoire               6.234299                  2.372745                      5.246387\n",
            "Croatia                     4.708950                  3.373416                      6.990110\n",
            "Cyprus                      6.938663                  6.810543                      8.075193\n",
            "Czech Rep.                  4.923801                  5.239744                      7.619390\n",
            "Denmark                     3.826199                  8.960904                      8.490995\n",
            "Dominican Rep.              7.667909                  3.143628                      6.453610\n",
            "Ecuador                     6.887900                  1.755688                      4.984583\n",
            "Egypt                       5.636183                  5.197853                      5.618237\n",
            "El Salvador                 8.353329                  3.517019                      6.924560\n",
            "Estonia                     6.068582                  7.376946                      8.489598\n",
            "Ethiopia                    6.311082                  3.433376                      3.987950\n",
            "Finland                     4.559313                  9.220591                      8.766545\n",
            "France                      4.198671                  6.592889                      7.855400\n",
            "Gabon                       5.661334                  3.185506                      6.349872\n",
            "Gambia, The                 7.327877                  4.784320                      6.304128\n",
            "Germany                     5.188941                  8.723790                      8.128510\n",
            "Ghana                       6.360770                  5.460879                      6.200205\n",
            "Greece                      5.514759                  5.012020                      7.372742\n",
            "Guatemala                   8.458834                  3.215882                      6.369600\n",
            "Haiti                       8.005205                  1.366142                      4.971948\n",
            "Honduras                    8.022705                  3.159692                      6.153099\n",
            "Hong Kong                   9.117601                  8.297381                      8.981641\n",
            "Hungary                     4.673343                  5.259361                      7.586305\n",
            "Iceland                     5.844455                  8.133741                      7.135838\n",
            "India                       6.653917                  6.473507                      6.132024\n",
            "Indonesia                   7.355758                  4.122830                      6.036151\n",
            "Iran                        6.223236                  4.432192                      4.987255\n",
            "Ireland                     5.632249                  8.635868                      8.340341\n",
            "Israel                      5.137498                  8.349501                      7.602683\n",
            "Italy                       5.170313                  4.617917                      7.298066\n",
            "Jamaica                     7.482809                  5.738992                      6.451346\n",
            "Japan                       5.731208                  7.798129                      6.944246\n",
            "Jordan                      6.196172                  6.294695                      6.619001\n",
            "Kazakhstan                  7.740871                  3.643544                      3.251711\n",
            "Kenya                       6.887095                  3.672867                      5.516489\n",
            "Korea, South                6.672408                  5.027441                      7.264108\n",
            "Kuwait                      5.741772                  6.569271                      6.458067\n",
            "Latvia                      6.440815                  4.668418                      7.521525\n",
            "Lebanon                     8.700447                  2.524431                      5.563123\n",
            "Liberia                     8.406422                  4.657967                      2.135174\n",
            "Lithuania                   6.564435                  4.297537                      7.402917\n",
            "Luxembourg                  4.792184                  8.144652                      8.718399\n",
            "Madagascar                  7.193943                  2.590927                      5.495976\n",
            "Malawi                      6.172007                  5.809381                      4.990163\n",
            "Malaysia                    6.020071                  6.125704                      7.181149\n",
            "Mali                        6.750273                  3.912251                      5.078162\n",
            "Malta                       5.592642                  6.708002                      7.771913\n",
            "Mauritius                   7.321897                  6.306803                      7.196211\n",
            "Mexico                      7.048687                  3.776770                      7.051863\n",
            "Moldova                     6.759009                  2.097193                      5.935439\n",
            "Mongolia                    7.716505                  2.788843                      4.264622\n",
            "Morocco                     6.116989                  4.234854                      6.395981\n",
            "Mozambique                  5.711772                  2.805594                      5.666949\n",
            "Namibia                     5.597268                  6.862994                      6.227874\n",
            "Netherlands                 4.093433                  8.936028                      8.416930\n",
            "New Zealand                 5.937436                  9.293014                      8.732735\n",
            "Nicaragua                   7.312177                  1.311086                      5.399862\n",
            "Nigeria                     6.434934                  4.216033                      4.711573\n",
            "Norway                      4.362897                  8.718232                      7.527697\n",
            "Oman                        4.932547                  6.724575                      7.015035\n",
            "Pakistan                    7.288397                  4.097130                      6.030087\n",
            "Panama                      7.151784                  2.545282                      7.224198\n",
            "Pap. New Guinea             6.386041                  4.660169                      5.970640\n",
            "Paraguay                    8.029357                  1.224546                      5.518930\n",
            "Peru                        7.407531                  2.459399                      6.588174\n",
            "Philippines                 8.015254                  3.776078                      6.328138\n",
            "Poland                      5.119562                  4.878314                      6.769725\n",
            "Portugal                    5.114594                  6.707832                      8.113620\n",
            "Romania                     7.003662                  3.581643                      6.838330\n",
            "Russia                      5.912512                  2.924056                      5.138782\n",
            "Rwanda                      6.215036                  7.029871                      4.397147\n",
            "Senegal                     6.343214                  3.494508                      6.165883\n",
            "Serbia                      6.438064                  2.701589                      6.912290\n",
            "Sierra Leone                6.989403                  3.035310                      5.449930\n",
            "Singapore                   7.988378                  7.553357                      9.018481\n",
            "Slovak Rep                  5.812954                  3.604530                      7.452972\n",
            "Slovenia                    4.608228                  5.017893                      7.512441\n",
            "South Africa                6.398508                  7.218059                      6.265452\n",
            "Spain                       5.914029                  5.017752                      7.842762\n",
            "Sri Lanka                   7.245921                  5.019698                      6.112069\n",
            "Suriname                    5.988401                  4.724486                      6.656657\n",
            "Sweden                      3.227245                  8.520584                      8.750125\n",
            "Switzerland                 7.394318                  8.755234                      7.397421\n",
            "Syria                       5.229918                  3.673918                      5.679787\n",
            "Taiwan                      6.480629                  5.709590                      7.539643\n",
            "Tanzania                    5.879005                  4.610875                      5.536134\n",
            "Thailand                    7.018596                  5.520360                      6.707642\n",
            "Trinidad & Tob.             5.839532                  5.686494                      6.861641\n",
            "Tunisia                     5.721628                  6.051273                      6.716728\n",
            "Turkey                      6.627086                  4.277552                      7.025367\n",
            "Uganda                      7.402309                  4.106610                      5.058612\n",
            "Ukraine                     6.196858                  2.365027                      4.893334\n",
            "Unit. Arab Em.              6.860605                  6.951569                      8.550735\n",
            "United Kingdom              5.617554                  8.659852                      8.236733\n",
            "United States               6.582181                  7.159482                      8.018449\n",
            "Uruguay                     7.107623                  7.068280                      6.468927\n",
            "Venezuela                   5.499819                  0.640392                      3.247079\n",
            "Yemen, Rep.                 7.310210                  2.327097                      5.399074\n",
            "Zambia                      6.152783                  4.632379                      4.448807\n",
            "Zimbabwe                    6.275854                  2.546880                      3.780634\n"
          ],
          "name": "stdout"
        }
      ]
    },
    {
      "cell_type": "code",
      "metadata": {
        "id": "P_MoGN4bvOjD",
        "colab_type": "code",
        "outputId": "9393c070-b474-434a-d9fe-fcbdb9d41573",
        "colab": {
          "base_uri": "https://localhost:8080/",
          "height": 581
        }
      },
      "source": [
        "z = 1\n",
        "while z == 1:\n",
        "  a = input('If you would like to compare against measures with a 5 numerical summary, type measures: ')\n",
        "  if a == 'measures':\n",
        "    custom_list_ef = []\n",
        "    count = 0\n",
        "    for i in column_names_ef:\n",
        "      if count > 5:\n",
        "        custom_list_ef.append(i)\n",
        "      count += 1\n",
        "    b = int(input('How many measures would you like to compare?: '))\n",
        "    measures = []\n",
        "    while b > 0:\n",
        "      print(custom_list_ef)\n",
        "      d = input('Enter measure name (select from above): ')\n",
        "      measures.append(d)\n",
        "      b -= 1\n",
        "    print(ef.groupby('year').describe()[measures])\n",
        "    z -= 1\n",
        "  else:\n",
        "    print('What you typed does not make sense, displaying default output.')\n",
        "    print(ef.groupby('year').describe())"
      ],
      "execution_count": 0,
      "outputs": [
        {
          "output_type": "stream",
          "text": [
            "If you would like to compare against measures with a 5 numerical summary, type measures: measures\n",
            "How many measures would you like to compare?: 2\n",
            "['1a_government_consumption', '1b_transfers', '1c_gov_enterprises', '1d_top_marg_tax_rate', '1_size_government', '2a_judicial_independence', '2b_impartial_courts', '2c_protection_property_rights', '2d_military_interference', '2e_integrity_legal_system', '2f_legal_enforcement_contracts', '2g_restrictions_sale_real_property', '2h_reliability_police', '2i_business_costs_crime', '2j_gender_adjustment', '2_property_rights', '3a_money_growth', '3b_std_inflation', '3c_inflation', '3d_freedom_own_foreign_currency', '3_sound_money', '4a_tariffs', '4b_regulatory_trade_barriers', '4c_black_market', '4d_control_movement_capital_ppl', '4_trade', '5a_credit_market_reg', '5b_labor_market_reg', '5c_business_reg', '5_regulation']\n",
            "Enter measure name (select from above): 2a_judicial_independence\n",
            "['1a_government_consumption', '1b_transfers', '1c_gov_enterprises', '1d_top_marg_tax_rate', '1_size_government', '2a_judicial_independence', '2b_impartial_courts', '2c_protection_property_rights', '2d_military_interference', '2e_integrity_legal_system', '2f_legal_enforcement_contracts', '2g_restrictions_sale_real_property', '2h_reliability_police', '2i_business_costs_crime', '2j_gender_adjustment', '2_property_rights', '3a_money_growth', '3b_std_inflation', '3c_inflation', '3d_freedom_own_foreign_currency', '3_sound_money', '4a_tariffs', '4b_regulatory_trade_barriers', '4c_black_market', '4d_control_movement_capital_ppl', '4_trade', '5a_credit_market_reg', '5b_labor_market_reg', '5c_business_reg', '5_regulation']\n",
            "Enter measure name (select from above): 4b_regulatory_trade_barriers\n",
            "     2a_judicial_independence                                                                       4b_regulatory_trade_barriers                                                                      \n",
            "                        count      mean       std       min       25%       50%       75%       max                        count      mean       std       min       25%       50%       75%       max\n",
            "year                                                                                                                                                                                                  \n",
            "1970                    128.0  4.941113  2.220441  0.470073  3.188762  4.630257  6.764835  9.465001                        128.0  6.371205  1.516895  1.765549  5.572832  6.490793  7.394171  9.097557\n",
            "1975                    128.0  4.941113  2.220441  0.470073  3.188762  4.630257  6.764835  9.465001                        128.0  6.371205  1.516895  1.765549  5.572832  6.490793  7.394171  9.097557\n",
            "1980                    128.0  4.941113  2.220441  0.470073  3.188762  4.630257  6.764835  9.465001                        128.0  6.371205  1.516895  1.765549  5.572832  6.490793  7.394171  9.097557\n",
            "1985                    128.0  4.941113  2.220441  0.470073  3.188762  4.630257  6.764835  9.465001                        128.0  6.371205  1.516895  1.765549  5.572832  6.490793  7.394171  9.097557\n",
            "1990                    128.0  4.941113  2.220441  0.470073  3.188762  4.630257  6.764835  9.465001                        128.0  6.371205  1.516895  1.765549  5.572832  6.490793  7.394171  9.097557\n",
            "1995                    128.0  5.184472  2.298492  1.177513  3.339872  4.964844  6.753205  9.816667                        128.0  6.165704  1.595502  1.765549  5.297226  6.318482  7.175000  9.300000\n",
            "2000                    128.0  5.108949  2.262971  1.177513  3.307487  4.740023  6.913033  9.686000                        128.0  6.838547  1.700364  1.765549  5.810527  6.804744  8.321577  9.833333\n",
            "2001                    128.0  4.808252  2.288287  0.460993  2.968701  4.587146  6.643385  9.345238                        128.0  6.751827  1.640542  1.765549  5.762980  6.719708  8.070833  9.833333\n",
            "2002                    128.0  4.756628  2.294722  0.166667  2.958333  4.664442  6.582724  9.333333                        128.0  6.644757  1.658278  1.765549  5.744529  6.583333  7.916667  9.833333\n",
            "2003                    128.0  4.812047  2.288728  0.166667  2.958333  4.500000  6.666667  9.333333                        128.0  6.592674  1.628094  1.765549  5.583333  6.666667  7.666667  9.416667\n",
            "2004                    128.0  4.591353  2.254398  0.166667  2.620855  4.449422  6.677489  8.787879                        128.0  5.944813  1.819872  0.000000  4.928686  5.991718  7.365896  9.148396\n",
            "2005                    128.0  4.846534  2.300708  0.307692  2.998543  4.532189  6.899342  9.183007                        128.0  6.095892  1.717187  0.134019  5.096013  6.203956  7.272688  9.080828\n",
            "2006                    128.0  4.965256  2.262676  0.313512  3.079603  4.660521  6.947775  9.210717                        128.0  6.259521  1.660853  1.264244  5.492304  6.443433  7.364365  9.122712\n",
            "2007                    128.0  5.089780  2.258420  0.628486  3.448438  4.694873  6.999902  9.385968                        128.0  6.408924  1.621049  1.264244  5.595567  6.626217  7.479458  9.390275\n",
            "2008                    128.0  5.034667  2.222678  0.743840  3.292939  4.691405  6.737927  9.563554                        128.0  6.406903  1.599666  1.315804  5.777802  6.684596  7.373706  9.268836\n",
            "2009                    128.0  4.942230  2.220049  1.153850  3.125445  4.649245  6.644611  9.596643                        128.0  6.454081  1.536464  1.765549  5.655806  6.687953  7.434680  9.118545\n",
            "2010                    128.0  4.909623  2.265537  1.081706  2.926143  4.612427  6.665570  9.553203                        128.0  6.446207  1.478551  1.765549  5.782781  6.670717  7.356682  8.995707\n",
            "2011                    128.0  4.869307  2.249924  0.454035  2.909699  4.604261  6.713063  9.484536                        128.0  6.344539  1.448206  1.765549  5.584309  6.595728  7.305826  8.831987\n",
            "2012                    128.0  4.811048  2.189084  0.188727  3.084651  4.520199  6.610769  9.463799                        128.0  6.345074  1.320893  1.766481  5.760236  6.578251  7.265304  8.712742\n",
            "2013                    128.0  4.850115  2.265689  0.000000  3.163848  4.477041  6.643940  9.582745                        128.0  6.381015  1.263858  1.807743  5.931518  6.612197  7.218749  8.443840\n",
            "2014                    128.0  5.023386  2.160968  0.212811  3.319047  4.719292  6.617413  9.472556                        128.0  6.003047  2.167693  0.000000  4.367903  6.181416  7.928795  9.227312\n",
            "2015                    128.0  5.076021  2.178253  0.188571  3.487006  4.783114  6.501272  9.571012                        128.0  5.899041  1.934144  1.566369  4.418893  6.145071  7.646683  8.674181\n",
            "2016                    128.0  5.057177  2.186030  0.216767  3.408480  4.674587  6.541874  9.697464                        128.0  5.982293  1.919820  1.964154  4.580227  6.142230  7.703700  8.836085\n"
          ],
          "name": "stdout"
        }
      ]
    },
    {
      "cell_type": "code",
      "metadata": {
        "id": "Mx-bYta2wOmA",
        "colab_type": "code",
        "outputId": "4ca3b6f0-d4cc-4c92-daf8-f9280604a016",
        "colab": {
          "base_uri": "https://localhost:8080/"
        }
      },
      "source": [
        "custom_list_ef = []\n",
        "count = 0\n",
        "for i in column_names_ef:\n",
        "  if count > 3:\n",
        "    custom_list_ef.append(i)\n",
        "  count += 1\n",
        "\n",
        "# Finding the correlation values across a selection of variables\n",
        "dfcomp = ef[custom_list_ef]\n",
        "retscomp = round(dfcomp.pct_change(), 4)\n",
        "corr = retscomp.corr()\n",
        "print(corr)"
      ],
      "execution_count": 0,
      "outputs": [
        {
          "output_type": "stream",
          "text": [
            "                                        rank  quartile  1a_government_consumption  1b_transfers  1c_gov_enterprises  1d_top_marg_tax_rate  1_size_government  2a_judicial_independence  2b_impartial_courts  2c_protection_property_rights  2d_military_interference  2e_integrity_legal_system  2f_legal_enforcement_contracts  2g_restrictions_sale_real_property  2h_reliability_police  2i_business_costs_crime  2j_gender_adjustment  2_property_rights  3a_money_growth  3b_std_inflation  3c_inflation  3d_freedom_own_foreign_currency  3_sound_money  4a_tariffs  4b_regulatory_trade_barriers  4c_black_market  4d_control_movement_capital_ppl   4_trade  5a_credit_market_reg  5b_labor_market_reg  5c_business_reg  5_regulation\n",
            "rank                                1.000000  0.487494                  -0.004404      0.058058           -0.192191             -0.051692          -0.144543                 -0.173594            -0.284112                      -0.195731                 -0.150173                  -0.151534                       -0.127070                           -0.122194              -0.263554                -0.151300             -0.118906          -0.248457        -0.023917         -0.067602     -0.061697                        -0.181324      -0.038774   -0.065604                     -0.111914        -0.038372                        -0.163367 -0.074586             -0.110369            -0.137642        -0.293893     -0.284954\n",
            "quartile                            0.487494  1.000000                   0.054364      0.320980           -0.369109             -0.030998          -0.072952                 -0.286100            -0.425112                      -0.374883                 -0.347561                  -0.324105                       -0.245953                           -0.243887              -0.466875                -0.276073             -0.228154          -0.513284        -0.060108         -0.146085     -0.139204                        -0.510626      -0.094531   -0.130999                     -0.227551        -0.070425                        -0.363425 -0.154666             -0.211153            -0.094786        -0.511146     -0.474441\n",
            "1a_government_consumption          -0.004404  0.054364                   1.000000      0.078290           -0.071814              0.073048           0.196071                 -0.064984            -0.096671                      -0.061627                 -0.082950                  -0.070051                       -0.037859                           -0.037892              -0.094865                -0.073041              0.014269          -0.085127        -0.001865          0.015007     -0.019772                        -0.063513      -0.009225   -0.029879                     -0.034220        -0.017790                        -0.026400 -0.029487             -0.019633            -0.044404        -0.076366     -0.059376\n",
            "1b_transfers                        0.058058  0.320980                   0.078290      1.000000           -0.223623              0.245771           0.457318                 -0.101686            -0.089285                      -0.127283                 -0.280422                  -0.285682                       -0.180851                           -0.129752              -0.216192                -0.244018             -0.204892          -0.316427         0.000316         -0.099871     -0.046610                        -0.196081      -0.038166   -0.072619                     -0.129696        -0.015979                        -0.163568 -0.067411             -0.009552             0.164371        -0.131567     -0.018772\n",
            "1c_gov_enterprises                 -0.192191 -0.369109                  -0.071814     -0.223623            1.000000             -0.057435           0.249120                  0.098807             0.127257                       0.175825                  0.270862                   0.201038                        0.153619                            0.202340               0.201656                 0.090755              0.229145           0.328133         0.029432          0.061949      0.087842                         0.236184       0.092016    0.156143                      0.170436         0.019812                         0.244732  0.143236              0.158744            -0.041723         0.211923      0.241700\n",
            "1d_top_marg_tax_rate               -0.051692 -0.030998                   0.073048      0.245771           -0.057435              1.000000           0.365181                  0.039755             0.015753                       0.032234                 -0.051245                   0.012617                        0.172861                            0.050603               0.005921                -0.054999              0.034876           0.092067        -0.000357         -0.008287     -0.009476                         0.039621       0.022916    0.017305                      0.027559         0.003196                         0.068716 -0.000808              0.035584             0.093682         0.092370      0.126960\n",
            "1_size_government                  -0.144543 -0.072952                   0.196071      0.457318            0.249120              0.365181           1.000000                 -0.066262            -0.094467                      -0.023870                 -0.127474                  -0.145297                       -0.047195                           -0.005561              -0.144592                -0.160914              0.032819          -0.100063         0.028255         -0.018187     -0.003159                         0.063270       0.015904   -0.001305                     -0.035342         0.032387                         0.037137  0.014735              0.129372             0.128923        -0.021647      0.188352\n",
            "2a_judicial_independence           -0.173594 -0.286100                  -0.064984     -0.101686            0.098807              0.039755          -0.066262                  1.000000             0.711989                       0.436194                  0.426189                   0.233023                        0.198078                            0.133532               0.531108                 0.271682              0.030326           0.395768         0.045729          0.045027      0.120532                         0.164296       0.055028    0.018911                      0.176979         0.015571                         0.162793  0.063981              0.071236             0.241636         0.516197      0.328690\n",
            "2b_impartial_courts                -0.284112 -0.425112                  -0.096671     -0.089285            0.127257              0.015753          -0.094467                  0.711989             1.000000                       0.500003                  0.376611                   0.324149                        0.255340                            0.187129               0.681548                 0.365325              0.039807           0.528674         0.040082          0.081528      0.129460                         0.189713       0.071252    0.030904                      0.209891         0.037735                         0.214905  0.081938              0.099818             0.228026         0.688836      0.400384\n",
            "2c_protection_property_rights      -0.195731 -0.374883                  -0.061627     -0.127283            0.175825              0.032234          -0.023870                  0.436194             0.500003                       1.000000                  0.271030                   0.314236                        0.167355                            0.147913               0.483916                 0.306368              0.052841           0.621809         0.047465          0.101238      0.120282                         0.236123       0.077215    0.099798                      0.151421         0.015122                         0.206699  0.127556              0.133113             0.117453         0.491220      0.348368\n",
            "2d_military_interference           -0.150173 -0.347561                  -0.082950     -0.280422            0.270862             -0.051245          -0.127474                  0.426189             0.376611                       0.271030                  1.000000                   0.293148                        0.213462                            0.232535               0.397519                 0.214462              0.117237           0.461414         0.021243          0.038963      0.093563                         0.258456       0.056264    0.123551                      0.205505         0.027708                         0.278574  0.103747              0.109859             0.133690         0.379358      0.276896\n",
            "2e_integrity_legal_system          -0.151534 -0.324105                  -0.070051     -0.285682            0.201038              0.012617          -0.145297                  0.233023             0.324149                       0.314236                  0.293148                   1.000000                        0.286350                            0.192274               0.401365                 0.400944              0.162484           0.622356         0.012842          0.074483      0.067673                         0.197897       0.038222    0.057510                      0.387095         0.070372                         0.220579  0.129809              0.101824             0.029401         0.344957      0.221390\n",
            "2f_legal_enforcement_contracts     -0.127070 -0.245953                  -0.037859     -0.180851            0.153619              0.172861          -0.047195                  0.198078             0.255340                       0.167355                  0.213462                   0.286350                        1.000000                            0.314027               0.380517                 0.206413              0.183542           0.407643         0.008174          0.035846      0.011338                         0.273145       0.077733    0.030827                      0.221919         0.012542                         0.284289  0.064784              0.109511            -0.031871         0.337608      0.190936\n",
            "2g_restrictions_sale_real_property -0.122194 -0.243887                  -0.037892     -0.129752            0.202340              0.050603          -0.005561                  0.133532             0.187129                       0.147913                  0.232535                   0.192274                        0.314027                            1.000000               0.243422                 0.146370              0.118623           0.392326         0.017017          0.028535      0.028704                         0.200342       0.044250    0.093928                      0.119661         0.014827                         0.149270  0.066472              0.111580             0.031658         0.300251      0.242404\n",
            "2h_reliability_police              -0.263554 -0.466875                  -0.094865     -0.216192            0.201656              0.005921          -0.144592                  0.531108             0.681548                       0.483916                  0.397519                   0.401365                        0.380517                            0.243422               1.000000                 0.611177              0.015474           0.555458         0.033645          0.108979      0.108435                         0.254404       0.077434    0.095761                      0.225365         0.058654                         0.255088  0.135309              0.150016             0.124356         0.671067      0.407432\n",
            "2i_business_costs_crime            -0.151300 -0.276073                  -0.073041     -0.244018            0.090755             -0.054999          -0.160914                  0.271682             0.365325                       0.306368                  0.214462                   0.400944                        0.206413                            0.146370               0.611177                 1.000000             -0.011309           0.375315         0.012700          0.047617      0.093494                         0.197473       0.047538    0.051775                      0.106597         0.049539                         0.103273  0.066360              0.047966             0.058105         0.371931      0.203412\n",
            "2j_gender_adjustment               -0.118906 -0.228154                   0.014269     -0.204892            0.229145              0.034876           0.032819                  0.030326             0.039807                       0.052841                  0.117237                   0.162484                        0.183542                            0.118623               0.015474                -0.011309              1.000000           0.366791        -0.016202          0.029545      0.010149                         0.057915       0.023719    0.043079                      0.058801         0.066575                         0.279647  0.065598              0.086164            -0.019151         0.102856      0.153938\n",
            "2_property_rights                  -0.248457 -0.513284                  -0.085127     -0.316427            0.328133              0.092067          -0.100063                  0.395768             0.528674                       0.621809                  0.461414                   0.622356                        0.407643                            0.392326               0.555458                 0.375315              0.366791           1.000000         0.016929          0.097093      0.137130                         0.258316       0.066301    0.115408                      0.236143         0.055287                         0.414106  0.164378              0.186770             0.114238         0.546330      0.437816\n",
            "3a_money_growth                    -0.023917 -0.060108                  -0.001865      0.000316            0.029432             -0.000357           0.028255                  0.045729             0.040082                       0.047465                  0.021243                   0.012842                        0.008174                            0.017017               0.033645                 0.012700             -0.016202           0.016929         1.000000          0.150311      0.038133                         0.062523       0.371582    0.002631                      0.008646         0.010331                         0.008638  0.020768              0.034345             0.042704         0.034591      0.084428\n",
            "3b_std_inflation                   -0.067602 -0.146085                   0.015007     -0.099871            0.061949             -0.008287          -0.018187                  0.045027             0.081528                       0.101238                  0.038963                   0.074483                        0.035846                            0.028535               0.108979                 0.047617              0.029545           0.097093         0.150311          1.000000      0.118464                         0.001069       0.459373    0.016172                      0.039927         0.051259                         0.068823  0.037651              0.072756            -0.049420         0.100162      0.096692\n",
            "3c_inflation                       -0.061697 -0.139204                  -0.019772     -0.046610            0.087842             -0.009476          -0.003159                  0.120532             0.129460                       0.120282                  0.093563                   0.067673                        0.011338                            0.028704               0.108435                 0.093494              0.010149           0.137130         0.038133          0.118464      1.000000                         0.089457       0.339517    0.020383                      0.057833         0.052599                         0.088919  0.041755              0.092702             0.035241         0.118277      0.150694\n",
            "3d_freedom_own_foreign_currency    -0.181324 -0.510626                  -0.063513     -0.196081            0.236184              0.039621           0.063270                  0.164296             0.189713                       0.236123                  0.258456                   0.197897                        0.273145                            0.200342               0.254404                 0.197473              0.057915           0.258316         0.062523          0.001069      0.089457                         1.000000       0.411255    0.233190                      0.073480         0.104287                         0.213453  0.258798              0.070652             0.128794         0.370429      0.330817\n",
            "3_sound_money                      -0.038774 -0.094531                  -0.009225     -0.038166            0.092016              0.022916           0.015904                  0.055028             0.071252                       0.077215                  0.056264                   0.038222                        0.077733                            0.044250               0.077434                 0.047538              0.023719           0.066301         0.371582          0.459373      0.339517                         0.411255       1.000000    0.022424                      0.034003         0.122323                         0.202629  0.064340              0.083348             0.004765         0.088196      0.105773\n",
            "4a_tariffs                         -0.065604 -0.130999                  -0.029879     -0.072619            0.156143              0.017305          -0.001305                  0.018911             0.030904                       0.099798                  0.123551                   0.057510                        0.030827                            0.093928               0.095761                 0.051775              0.043079           0.115408         0.002631          0.016172      0.020383                         0.233190       0.022424    1.000000                      0.031880         0.008232                         0.104298  0.414544              0.056598            -0.004816         0.073899      0.094173\n",
            "4b_regulatory_trade_barriers       -0.111914 -0.227551                  -0.034220     -0.129696            0.170436              0.027559          -0.035342                  0.176979             0.209891                       0.151421                  0.205505                   0.387095                        0.221919                            0.119661               0.225365                 0.106597              0.058801           0.236143         0.008646          0.039927      0.057833                         0.073480       0.034003    0.031880                      1.000000         0.024545                         0.183450  0.061561              0.074480             0.008091         0.250209      0.162438\n",
            "4c_black_market                    -0.038372 -0.070425                  -0.017790     -0.015979            0.019812              0.003196           0.032387                  0.015571             0.037735                       0.015122                  0.027708                   0.070372                        0.012542                            0.014827               0.058654                 0.049539              0.066575           0.055287         0.010331          0.051259      0.052599                         0.104287       0.122323    0.008232                      0.024545         1.000000                         0.091154  0.284712              0.066106            -0.041968         0.021941      0.038742\n",
            "4d_control_movement_capital_ppl    -0.163367 -0.363425                  -0.026400     -0.163568            0.244732              0.068716           0.037137                  0.162793             0.214905                       0.206699                  0.278574                   0.220579                        0.284289                            0.149270               0.255088                 0.103273              0.279647           0.414106         0.008638          0.068823      0.088919                         0.213453       0.202629    0.104298                      0.183450         0.091154                         1.000000  0.388255              0.233296             0.025098         0.300852      0.315121\n",
            "4_trade                            -0.074586 -0.154666                  -0.029487     -0.067411            0.143236             -0.000808           0.014735                  0.063981             0.081938                       0.127556                  0.103747                   0.129809                        0.064784                            0.066472               0.135309                 0.066360              0.065598           0.164378         0.020768          0.037651      0.041755                         0.258798       0.064340    0.414544                      0.061561         0.284712                         0.388255  1.000000              0.117197             0.007699         0.099265      0.138167\n",
            "5a_credit_market_reg               -0.110369 -0.211153                  -0.019633     -0.009552            0.158744              0.035584           0.129372                  0.071236             0.099818                       0.133113                  0.109859                   0.101824                        0.109511                            0.111580               0.150016                 0.047966              0.086164           0.186770         0.034345          0.072756      0.092702                         0.070652       0.083348    0.056598                      0.074480         0.066106                         0.233296  0.117197              1.000000             0.035819         0.189519      0.528188\n",
            "5b_labor_market_reg                -0.137642 -0.094786                  -0.044404      0.164371           -0.041723              0.093682           0.128923                  0.241636             0.228026                       0.117453                  0.133690                   0.029401                       -0.031871                            0.031658               0.124356                 0.058105             -0.019151           0.114238         0.042704         -0.049420      0.035241                         0.128794       0.004765   -0.004816                      0.008091        -0.041968                         0.025098  0.007699              0.035819             1.000000         0.220618      0.505144\n",
            "5c_business_reg                    -0.293893 -0.511146                  -0.076366     -0.131567            0.211923              0.092370          -0.021647                  0.516197             0.688836                       0.491220                  0.379358                   0.344957                        0.337608                            0.300251               0.671067                 0.371931              0.102856           0.546330         0.034591          0.100162      0.118277                         0.370429       0.088196    0.073899                      0.250209         0.021941                         0.300852  0.099265              0.189519             0.220618         1.000000      0.576823\n",
            "5_regulation                       -0.284954 -0.474441                  -0.059376     -0.018772            0.241700              0.126960           0.188352                  0.328690             0.400384                       0.348368                  0.276896                   0.221390                        0.190936                            0.242404               0.407432                 0.203412              0.153938           0.437816         0.084428          0.096692      0.150694                         0.330817       0.105773    0.094173                      0.162438         0.038742                         0.315121  0.138167              0.528188             0.505144         0.576823      1.000000\n"
          ],
          "name": "stdout"
        }
      ]
    }
  ]
}